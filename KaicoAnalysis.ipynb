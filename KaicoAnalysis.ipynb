{
  "nbformat": 4,
  "nbformat_minor": 0,
  "metadata": {
    "colab": {
      "name": "KaicoAnalysis.ipynb",
      "provenance": [],
      "collapsed_sections": [],
      "mount_file_id": "18xXV-PSc3MuHdoYA2TD2DbLBdEx31smI",
      "authorship_tag": "ABX9TyP6Pjg58tXQGZK4ljuPFJDZ"
    },
    "kernelspec": {
      "name": "python3",
      "display_name": "Python 3"
    },
    "language_info": {
      "name": "python"
    }
  },
  "cells": [
    {
      "cell_type": "code",
      "execution_count": null,
      "metadata": {
        "id": "_HYbv0sQ8mjd"
      },
      "outputs": [],
      "source": [
        "!pip install deeplabcut"
      ]
    },
    {
      "cell_type": "code",
      "source": [
        "import deeplabcut"
      ],
      "metadata": {
        "id": "vb_cSg-5IZTk"
      },
      "execution_count": 50,
      "outputs": []
    },
    {
      "cell_type": "code",
      "execution_count": 51,
      "metadata": {
        "id": "hTtJxcQ7ywnB"
      },
      "outputs": [],
      "source": [
        "# Importing the toolbox (takes several seconds)\n",
        "import pandas as pd\n",
        "from pathlib import Path\n",
        "import numpy as np\n",
        "import os\n",
        "import matplotlib.pyplot as plt"
      ]
    },
    {
      "cell_type": "code",
      "execution_count": 122,
      "metadata": {
        "id": "WOEHc0MeywnJ"
      },
      "outputs": [],
      "source": [
        "# this is example data from the public project: https://github.com/AlexEMG/DeepLabCut/tree/master/examples/openfield-Pranav-2018-10-30\n",
        "video='/content/drive/MyDrive/Deeplabcut/Silkworms-MMasaki-2022-07-20/videos/June5.mp4'\n",
        "DLCscorer='DLC_dlcrnetms5_SilkwormsJul20shuffle1_9000_el'\n",
        "\n",
        "# dataname = str(Path(video).stem) + DLCscorer + '.h5'\n",
        "dataname = '/content/drive/MyDrive/Deeplabcut/Silkworms-MMasaki-2022-07-20/videos/June5DLC_dlcrnetms5_SilkwormsJul20shuffle1_9000_el.h5'\n",
        "\n",
        "# #loading output of DLC\n",
        "Dataframe = pd.read_hdf(os.path.join(dataname))\n"
      ]
    },
    {
      "cell_type": "code",
      "source": [
        "Dataframe.head()"
      ],
      "metadata": {
        "colab": {
          "base_uri": "https://localhost:8080/",
          "height": 394
        },
        "id": "9lpqMAoD1P-0",
        "outputId": "162607bf-d2a2-4632-e698-a754f8994d6d"
      },
      "execution_count": 114,
      "outputs": [
        {
          "output_type": "execute_result",
          "data": {
            "text/plain": [
              "scorer      DLC_dlcrnetms5_SilkwormsJul20shuffle1_9000                      \\\n",
              "individuals                                    control                       \n",
              "bodyparts                                         head                       \n",
              "coords                                               x        y likelihood   \n",
              "0                                              234.487  429.002        1.0   \n",
              "1                                              237.271  423.151        1.0   \n",
              "2                                              234.828  419.745        1.0   \n",
              "3                                              234.284  415.219        1.0   \n",
              "4                                              237.107  410.720        1.0   \n",
              "\n",
              "scorer                                                                 \\\n",
              "individuals                                                             \n",
              "bodyparts    ganzyou                     hirazuki                       \n",
              "coords             x        y likelihood        x        y likelihood   \n",
              "0            235.801  431.654        1.0  278.057  438.421      1.000   \n",
              "1            237.946  428.620        1.0  276.581  435.797      1.000   \n",
              "2            237.035  425.786        1.0  278.048  433.119      0.997   \n",
              "3            237.573  419.346        1.0  276.213  429.665      1.000   \n",
              "4            236.649  412.833        1.0  277.617  429.254      1.000   \n",
              "\n",
              "scorer                ...                                                  \\\n",
              "individuals           ...      alert                                        \n",
              "bodyparts     oshiri  ...       head  ganzyou                    hirazuki   \n",
              "coords             x  ... likelihood        x       y likelihood        x   \n",
              "0            364.507  ...      1.000  375.962  76.061      1.000  340.146   \n",
              "1            362.160  ...        NaN      NaN     NaN        NaN      NaN   \n",
              "2                NaN  ...      1.000  768.966  58.830      0.997  739.406   \n",
              "3            357.997  ...      0.999  779.392  54.784      0.994  746.539   \n",
              "4            358.202  ...      1.000  783.930  54.533      0.998  755.018   \n",
              "\n",
              "scorer                                                      \n",
              "individuals                                                 \n",
              "bodyparts                        oshiri                     \n",
              "coords            y likelihood        x       y likelihood  \n",
              "0            74.128      1.000      NaN     NaN      0.000  \n",
              "1               NaN        NaN      NaN     NaN        NaN  \n",
              "2            69.633      0.645  660.972  91.175      0.999  \n",
              "3            58.795      0.901      NaN     NaN      0.000  \n",
              "4            57.113      0.979      NaN     NaN      0.000  \n",
              "\n",
              "[5 rows x 48 columns]"
            ],
            "text/html": [
              "\n",
              "  <div id=\"df-fe5c7bd8-98eb-486c-b88f-b2852ebc5669\">\n",
              "    <div class=\"colab-df-container\">\n",
              "      <div>\n",
              "<style scoped>\n",
              "    .dataframe tbody tr th:only-of-type {\n",
              "        vertical-align: middle;\n",
              "    }\n",
              "\n",
              "    .dataframe tbody tr th {\n",
              "        vertical-align: top;\n",
              "    }\n",
              "\n",
              "    .dataframe thead tr th {\n",
              "        text-align: left;\n",
              "    }\n",
              "</style>\n",
              "<table border=\"1\" class=\"dataframe\">\n",
              "  <thead>\n",
              "    <tr>\n",
              "      <th>scorer</th>\n",
              "      <th colspan=\"21\" halign=\"left\">DLC_dlcrnetms5_SilkwormsJul20shuffle1_9000</th>\n",
              "    </tr>\n",
              "    <tr>\n",
              "      <th>individuals</th>\n",
              "      <th colspan=\"10\" halign=\"left\">control</th>\n",
              "      <th>...</th>\n",
              "      <th colspan=\"10\" halign=\"left\">alert</th>\n",
              "    </tr>\n",
              "    <tr>\n",
              "      <th>bodyparts</th>\n",
              "      <th colspan=\"3\" halign=\"left\">head</th>\n",
              "      <th colspan=\"3\" halign=\"left\">ganzyou</th>\n",
              "      <th colspan=\"3\" halign=\"left\">hirazuki</th>\n",
              "      <th>oshiri</th>\n",
              "      <th>...</th>\n",
              "      <th>head</th>\n",
              "      <th colspan=\"3\" halign=\"left\">ganzyou</th>\n",
              "      <th colspan=\"3\" halign=\"left\">hirazuki</th>\n",
              "      <th colspan=\"3\" halign=\"left\">oshiri</th>\n",
              "    </tr>\n",
              "    <tr>\n",
              "      <th>coords</th>\n",
              "      <th>x</th>\n",
              "      <th>y</th>\n",
              "      <th>likelihood</th>\n",
              "      <th>x</th>\n",
              "      <th>y</th>\n",
              "      <th>likelihood</th>\n",
              "      <th>x</th>\n",
              "      <th>y</th>\n",
              "      <th>likelihood</th>\n",
              "      <th>x</th>\n",
              "      <th>...</th>\n",
              "      <th>likelihood</th>\n",
              "      <th>x</th>\n",
              "      <th>y</th>\n",
              "      <th>likelihood</th>\n",
              "      <th>x</th>\n",
              "      <th>y</th>\n",
              "      <th>likelihood</th>\n",
              "      <th>x</th>\n",
              "      <th>y</th>\n",
              "      <th>likelihood</th>\n",
              "    </tr>\n",
              "  </thead>\n",
              "  <tbody>\n",
              "    <tr>\n",
              "      <th>0</th>\n",
              "      <td>234.487</td>\n",
              "      <td>429.002</td>\n",
              "      <td>1.0</td>\n",
              "      <td>235.801</td>\n",
              "      <td>431.654</td>\n",
              "      <td>1.0</td>\n",
              "      <td>278.057</td>\n",
              "      <td>438.421</td>\n",
              "      <td>1.000</td>\n",
              "      <td>364.507</td>\n",
              "      <td>...</td>\n",
              "      <td>1.000</td>\n",
              "      <td>375.962</td>\n",
              "      <td>76.061</td>\n",
              "      <td>1.000</td>\n",
              "      <td>340.146</td>\n",
              "      <td>74.128</td>\n",
              "      <td>1.000</td>\n",
              "      <td>NaN</td>\n",
              "      <td>NaN</td>\n",
              "      <td>0.000</td>\n",
              "    </tr>\n",
              "    <tr>\n",
              "      <th>1</th>\n",
              "      <td>237.271</td>\n",
              "      <td>423.151</td>\n",
              "      <td>1.0</td>\n",
              "      <td>237.946</td>\n",
              "      <td>428.620</td>\n",
              "      <td>1.0</td>\n",
              "      <td>276.581</td>\n",
              "      <td>435.797</td>\n",
              "      <td>1.000</td>\n",
              "      <td>362.160</td>\n",
              "      <td>...</td>\n",
              "      <td>NaN</td>\n",
              "      <td>NaN</td>\n",
              "      <td>NaN</td>\n",
              "      <td>NaN</td>\n",
              "      <td>NaN</td>\n",
              "      <td>NaN</td>\n",
              "      <td>NaN</td>\n",
              "      <td>NaN</td>\n",
              "      <td>NaN</td>\n",
              "      <td>NaN</td>\n",
              "    </tr>\n",
              "    <tr>\n",
              "      <th>2</th>\n",
              "      <td>234.828</td>\n",
              "      <td>419.745</td>\n",
              "      <td>1.0</td>\n",
              "      <td>237.035</td>\n",
              "      <td>425.786</td>\n",
              "      <td>1.0</td>\n",
              "      <td>278.048</td>\n",
              "      <td>433.119</td>\n",
              "      <td>0.997</td>\n",
              "      <td>NaN</td>\n",
              "      <td>...</td>\n",
              "      <td>1.000</td>\n",
              "      <td>768.966</td>\n",
              "      <td>58.830</td>\n",
              "      <td>0.997</td>\n",
              "      <td>739.406</td>\n",
              "      <td>69.633</td>\n",
              "      <td>0.645</td>\n",
              "      <td>660.972</td>\n",
              "      <td>91.175</td>\n",
              "      <td>0.999</td>\n",
              "    </tr>\n",
              "    <tr>\n",
              "      <th>3</th>\n",
              "      <td>234.284</td>\n",
              "      <td>415.219</td>\n",
              "      <td>1.0</td>\n",
              "      <td>237.573</td>\n",
              "      <td>419.346</td>\n",
              "      <td>1.0</td>\n",
              "      <td>276.213</td>\n",
              "      <td>429.665</td>\n",
              "      <td>1.000</td>\n",
              "      <td>357.997</td>\n",
              "      <td>...</td>\n",
              "      <td>0.999</td>\n",
              "      <td>779.392</td>\n",
              "      <td>54.784</td>\n",
              "      <td>0.994</td>\n",
              "      <td>746.539</td>\n",
              "      <td>58.795</td>\n",
              "      <td>0.901</td>\n",
              "      <td>NaN</td>\n",
              "      <td>NaN</td>\n",
              "      <td>0.000</td>\n",
              "    </tr>\n",
              "    <tr>\n",
              "      <th>4</th>\n",
              "      <td>237.107</td>\n",
              "      <td>410.720</td>\n",
              "      <td>1.0</td>\n",
              "      <td>236.649</td>\n",
              "      <td>412.833</td>\n",
              "      <td>1.0</td>\n",
              "      <td>277.617</td>\n",
              "      <td>429.254</td>\n",
              "      <td>1.000</td>\n",
              "      <td>358.202</td>\n",
              "      <td>...</td>\n",
              "      <td>1.000</td>\n",
              "      <td>783.930</td>\n",
              "      <td>54.533</td>\n",
              "      <td>0.998</td>\n",
              "      <td>755.018</td>\n",
              "      <td>57.113</td>\n",
              "      <td>0.979</td>\n",
              "      <td>NaN</td>\n",
              "      <td>NaN</td>\n",
              "      <td>0.000</td>\n",
              "    </tr>\n",
              "  </tbody>\n",
              "</table>\n",
              "<p>5 rows × 48 columns</p>\n",
              "</div>\n",
              "      <button class=\"colab-df-convert\" onclick=\"convertToInteractive('df-fe5c7bd8-98eb-486c-b88f-b2852ebc5669')\"\n",
              "              title=\"Convert this dataframe to an interactive table.\"\n",
              "              style=\"display:none;\">\n",
              "        \n",
              "  <svg xmlns=\"http://www.w3.org/2000/svg\" height=\"24px\"viewBox=\"0 0 24 24\"\n",
              "       width=\"24px\">\n",
              "    <path d=\"M0 0h24v24H0V0z\" fill=\"none\"/>\n",
              "    <path d=\"M18.56 5.44l.94 2.06.94-2.06 2.06-.94-2.06-.94-.94-2.06-.94 2.06-2.06.94zm-11 1L8.5 8.5l.94-2.06 2.06-.94-2.06-.94L8.5 2.5l-.94 2.06-2.06.94zm10 10l.94 2.06.94-2.06 2.06-.94-2.06-.94-.94-2.06-.94 2.06-2.06.94z\"/><path d=\"M17.41 7.96l-1.37-1.37c-.4-.4-.92-.59-1.43-.59-.52 0-1.04.2-1.43.59L10.3 9.45l-7.72 7.72c-.78.78-.78 2.05 0 2.83L4 21.41c.39.39.9.59 1.41.59.51 0 1.02-.2 1.41-.59l7.78-7.78 2.81-2.81c.8-.78.8-2.07 0-2.86zM5.41 20L4 18.59l7.72-7.72 1.47 1.35L5.41 20z\"/>\n",
              "  </svg>\n",
              "      </button>\n",
              "      \n",
              "  <style>\n",
              "    .colab-df-container {\n",
              "      display:flex;\n",
              "      flex-wrap:wrap;\n",
              "      gap: 12px;\n",
              "    }\n",
              "\n",
              "    .colab-df-convert {\n",
              "      background-color: #E8F0FE;\n",
              "      border: none;\n",
              "      border-radius: 50%;\n",
              "      cursor: pointer;\n",
              "      display: none;\n",
              "      fill: #1967D2;\n",
              "      height: 32px;\n",
              "      padding: 0 0 0 0;\n",
              "      width: 32px;\n",
              "    }\n",
              "\n",
              "    .colab-df-convert:hover {\n",
              "      background-color: #E2EBFA;\n",
              "      box-shadow: 0px 1px 2px rgba(60, 64, 67, 0.3), 0px 1px 3px 1px rgba(60, 64, 67, 0.15);\n",
              "      fill: #174EA6;\n",
              "    }\n",
              "\n",
              "    [theme=dark] .colab-df-convert {\n",
              "      background-color: #3B4455;\n",
              "      fill: #D2E3FC;\n",
              "    }\n",
              "\n",
              "    [theme=dark] .colab-df-convert:hover {\n",
              "      background-color: #434B5C;\n",
              "      box-shadow: 0px 1px 3px 1px rgba(0, 0, 0, 0.15);\n",
              "      filter: drop-shadow(0px 1px 2px rgba(0, 0, 0, 0.3));\n",
              "      fill: #FFFFFF;\n",
              "    }\n",
              "  </style>\n",
              "\n",
              "      <script>\n",
              "        const buttonEl =\n",
              "          document.querySelector('#df-fe5c7bd8-98eb-486c-b88f-b2852ebc5669 button.colab-df-convert');\n",
              "        buttonEl.style.display =\n",
              "          google.colab.kernel.accessAllowed ? 'block' : 'none';\n",
              "\n",
              "        async function convertToInteractive(key) {\n",
              "          const element = document.querySelector('#df-fe5c7bd8-98eb-486c-b88f-b2852ebc5669');\n",
              "          const dataTable =\n",
              "            await google.colab.kernel.invokeFunction('convertToInteractive',\n",
              "                                                     [key], {});\n",
              "          if (!dataTable) return;\n",
              "\n",
              "          const docLinkHtml = 'Like what you see? Visit the ' +\n",
              "            '<a target=\"_blank\" href=https://colab.research.google.com/notebooks/data_table.ipynb>data table notebook</a>'\n",
              "            + ' to learn more about interactive tables.';\n",
              "          element.innerHTML = '';\n",
              "          dataTable['output_type'] = 'display_data';\n",
              "          await google.colab.output.renderOutput(dataTable, element);\n",
              "          const docLink = document.createElement('div');\n",
              "          docLink.innerHTML = docLinkHtml;\n",
              "          element.appendChild(docLink);\n",
              "        }\n",
              "      </script>\n",
              "    </div>\n",
              "  </div>\n",
              "  "
            ]
          },
          "metadata": {},
          "execution_count": 114
        }
      ]
    },
    {
      "cell_type": "code",
      "source": [
        "Df_T = Dataframe.T\n",
        "Df_T.head()"
      ],
      "metadata": {
        "colab": {
          "base_uri": "https://localhost:8080/",
          "height": 331
        },
        "id": "yp9jezVB1u5h",
        "outputId": "caac4716-6d49-45c9-d1e6-db9361cf3641"
      },
      "execution_count": 123,
      "outputs": [
        {
          "output_type": "execute_result",
          "data": {
            "text/plain": [
              "                                                                                0     \\\n",
              "scorer                                     individuals bodyparts coords                \n",
              "DLC_dlcrnetms5_SilkwormsJul20shuffle1_9000 alert       head      x           234.487   \n",
              "                                                                 y           429.002   \n",
              "                                                                 likelihood    1.000   \n",
              "                                                       ganzyou   x           235.801   \n",
              "                                                                 y           431.654   \n",
              "\n",
              "                                                                                1     \\\n",
              "scorer                                     individuals bodyparts coords                \n",
              "DLC_dlcrnetms5_SilkwormsJul20shuffle1_9000 alert       head      x           237.271   \n",
              "                                                                 y           423.151   \n",
              "                                                                 likelihood    1.000   \n",
              "                                                       ganzyou   x           237.946   \n",
              "                                                                 y           428.620   \n",
              "\n",
              "                                                                                2     \\\n",
              "scorer                                     individuals bodyparts coords                \n",
              "DLC_dlcrnetms5_SilkwormsJul20shuffle1_9000 alert       head      x           234.828   \n",
              "                                                                 y           419.745   \n",
              "                                                                 likelihood    1.000   \n",
              "                                                       ganzyou   x           237.035   \n",
              "                                                                 y           425.786   \n",
              "\n",
              "                                                                                3     \\\n",
              "scorer                                     individuals bodyparts coords                \n",
              "DLC_dlcrnetms5_SilkwormsJul20shuffle1_9000 alert       head      x           234.284   \n",
              "                                                                 y           415.219   \n",
              "                                                                 likelihood    1.000   \n",
              "                                                       ganzyou   x           237.573   \n",
              "                                                                 y           419.346   \n",
              "\n",
              "                                                                                4     \\\n",
              "scorer                                     individuals bodyparts coords                \n",
              "DLC_dlcrnetms5_SilkwormsJul20shuffle1_9000 alert       head      x           237.107   \n",
              "                                                                 y           410.720   \n",
              "                                                                 likelihood    1.000   \n",
              "                                                       ganzyou   x           236.649   \n",
              "                                                                 y           412.833   \n",
              "\n",
              "                                                                                5     \\\n",
              "scorer                                     individuals bodyparts coords                \n",
              "DLC_dlcrnetms5_SilkwormsJul20shuffle1_9000 alert       head      x           237.731   \n",
              "                                                                 y           412.922   \n",
              "                                                                 likelihood    1.000   \n",
              "                                                       ganzyou   x           237.601   \n",
              "                                                                 y           414.781   \n",
              "\n",
              "                                                                                6     \\\n",
              "scorer                                     individuals bodyparts coords                \n",
              "DLC_dlcrnetms5_SilkwormsJul20shuffle1_9000 alert       head      x           238.856   \n",
              "                                                                 y           406.273   \n",
              "                                                                 likelihood    1.000   \n",
              "                                                       ganzyou   x           236.789   \n",
              "                                                                 y           409.988   \n",
              "\n",
              "                                                                                7     \\\n",
              "scorer                                     individuals bodyparts coords                \n",
              "DLC_dlcrnetms5_SilkwormsJul20shuffle1_9000 alert       head      x           239.315   \n",
              "                                                                 y           408.144   \n",
              "                                                                 likelihood    1.000   \n",
              "                                                       ganzyou   x           236.280   \n",
              "                                                                 y           411.331   \n",
              "\n",
              "                                                                                8     \\\n",
              "scorer                                     individuals bodyparts coords                \n",
              "DLC_dlcrnetms5_SilkwormsJul20shuffle1_9000 alert       head      x           238.239   \n",
              "                                                                 y           404.058   \n",
              "                                                                 likelihood    1.000   \n",
              "                                                       ganzyou   x           238.653   \n",
              "                                                                 y           409.969   \n",
              "\n",
              "                                                                                9     \\\n",
              "scorer                                     individuals bodyparts coords                \n",
              "DLC_dlcrnetms5_SilkwormsJul20shuffle1_9000 alert       head      x           234.867   \n",
              "                                                                 y           395.411   \n",
              "                                                                 likelihood    1.000   \n",
              "                                                       ganzyou   x           236.019   \n",
              "                                                                 y           404.009   \n",
              "\n",
              "                                                                             ...  \\\n",
              "scorer                                     individuals bodyparts coords      ...   \n",
              "DLC_dlcrnetms5_SilkwormsJul20shuffle1_9000 alert       head      x           ...   \n",
              "                                                                 y           ...   \n",
              "                                                                 likelihood  ...   \n",
              "                                                       ganzyou   x           ...   \n",
              "                                                                 y           ...   \n",
              "\n",
              "                                                                                8986  \\\n",
              "scorer                                     individuals bodyparts coords                \n",
              "DLC_dlcrnetms5_SilkwormsJul20shuffle1_9000 alert       head      x           631.843   \n",
              "                                                                 y           333.002   \n",
              "                                                                 likelihood    0.999   \n",
              "                                                       ganzyou   x           620.566   \n",
              "                                                                 y           329.814   \n",
              "\n",
              "                                                                                8987  \\\n",
              "scorer                                     individuals bodyparts coords                \n",
              "DLC_dlcrnetms5_SilkwormsJul20shuffle1_9000 alert       head      x           596.221   \n",
              "                                                                 y           359.517   \n",
              "                                                                 likelihood    1.000   \n",
              "                                                       ganzyou   x           593.319   \n",
              "                                                                 y           349.972   \n",
              "\n",
              "                                                                                8988  \\\n",
              "scorer                                     individuals bodyparts coords                \n",
              "DLC_dlcrnetms5_SilkwormsJul20shuffle1_9000 alert       head      x           590.996   \n",
              "                                                                 y           382.756   \n",
              "                                                                 likelihood    1.000   \n",
              "                                                       ganzyou   x           589.360   \n",
              "                                                                 y           376.196   \n",
              "\n",
              "                                                                                8989  \\\n",
              "scorer                                     individuals bodyparts coords                \n",
              "DLC_dlcrnetms5_SilkwormsJul20shuffle1_9000 alert       head      x           545.465   \n",
              "                                                                 y           312.462   \n",
              "                                                                 likelihood    0.998   \n",
              "                                                       ganzyou   x           548.706   \n",
              "                                                                 y           315.695   \n",
              "\n",
              "                                                                                8990  \\\n",
              "scorer                                     individuals bodyparts coords                \n",
              "DLC_dlcrnetms5_SilkwormsJul20shuffle1_9000 alert       head      x           555.211   \n",
              "                                                                 y           372.224   \n",
              "                                                                 likelihood    1.000   \n",
              "                                                       ganzyou   x           558.616   \n",
              "                                                                 y           362.070   \n",
              "\n",
              "                                                                                8991  \\\n",
              "scorer                                     individuals bodyparts coords                \n",
              "DLC_dlcrnetms5_SilkwormsJul20shuffle1_9000 alert       head      x           588.094   \n",
              "                                                                 y           380.411   \n",
              "                                                                 likelihood    1.000   \n",
              "                                                       ganzyou   x           589.115   \n",
              "                                                                 y           373.155   \n",
              "\n",
              "                                                                                8992  \\\n",
              "scorer                                     individuals bodyparts coords                \n",
              "DLC_dlcrnetms5_SilkwormsJul20shuffle1_9000 alert       head      x           588.259   \n",
              "                                                                 y           381.062   \n",
              "                                                                 likelihood    1.000   \n",
              "                                                       ganzyou   x           589.813   \n",
              "                                                                 y           373.289   \n",
              "\n",
              "                                                                                8993  \\\n",
              "scorer                                     individuals bodyparts coords                \n",
              "DLC_dlcrnetms5_SilkwormsJul20shuffle1_9000 alert       head      x           592.335   \n",
              "                                                                 y           375.941   \n",
              "                                                                 likelihood    1.000   \n",
              "                                                       ganzyou   x           591.956   \n",
              "                                                                 y           367.537   \n",
              "\n",
              "                                                                                8994  \\\n",
              "scorer                                     individuals bodyparts coords                \n",
              "DLC_dlcrnetms5_SilkwormsJul20shuffle1_9000 alert       head      x           588.951   \n",
              "                                                                 y           376.680   \n",
              "                                                                 likelihood    0.995   \n",
              "                                                       ganzyou   x           590.876   \n",
              "                                                                 y           368.596   \n",
              "\n",
              "                                                                                8995  \n",
              "scorer                                     individuals bodyparts coords               \n",
              "DLC_dlcrnetms5_SilkwormsJul20shuffle1_9000 alert       head      x           588.058  \n",
              "                                                                 y           377.799  \n",
              "                                                                 likelihood    0.997  \n",
              "                                                       ganzyou   x           590.655  \n",
              "                                                                 y           370.238  \n",
              "\n",
              "[5 rows x 8996 columns]"
            ],
            "text/html": [
              "\n",
              "  <div id=\"df-300e2e73-c15f-46fd-b194-535b01817972\">\n",
              "    <div class=\"colab-df-container\">\n",
              "      <div>\n",
              "<style scoped>\n",
              "    .dataframe tbody tr th:only-of-type {\n",
              "        vertical-align: middle;\n",
              "    }\n",
              "\n",
              "    .dataframe tbody tr th {\n",
              "        vertical-align: top;\n",
              "    }\n",
              "\n",
              "    .dataframe thead th {\n",
              "        text-align: right;\n",
              "    }\n",
              "</style>\n",
              "<table border=\"1\" class=\"dataframe\">\n",
              "  <thead>\n",
              "    <tr style=\"text-align: right;\">\n",
              "      <th></th>\n",
              "      <th></th>\n",
              "      <th></th>\n",
              "      <th></th>\n",
              "      <th>0</th>\n",
              "      <th>1</th>\n",
              "      <th>2</th>\n",
              "      <th>3</th>\n",
              "      <th>4</th>\n",
              "      <th>5</th>\n",
              "      <th>6</th>\n",
              "      <th>7</th>\n",
              "      <th>8</th>\n",
              "      <th>9</th>\n",
              "      <th>...</th>\n",
              "      <th>8986</th>\n",
              "      <th>8987</th>\n",
              "      <th>8988</th>\n",
              "      <th>8989</th>\n",
              "      <th>8990</th>\n",
              "      <th>8991</th>\n",
              "      <th>8992</th>\n",
              "      <th>8993</th>\n",
              "      <th>8994</th>\n",
              "      <th>8995</th>\n",
              "    </tr>\n",
              "    <tr>\n",
              "      <th>scorer</th>\n",
              "      <th>individuals</th>\n",
              "      <th>bodyparts</th>\n",
              "      <th>coords</th>\n",
              "      <th></th>\n",
              "      <th></th>\n",
              "      <th></th>\n",
              "      <th></th>\n",
              "      <th></th>\n",
              "      <th></th>\n",
              "      <th></th>\n",
              "      <th></th>\n",
              "      <th></th>\n",
              "      <th></th>\n",
              "      <th></th>\n",
              "      <th></th>\n",
              "      <th></th>\n",
              "      <th></th>\n",
              "      <th></th>\n",
              "      <th></th>\n",
              "      <th></th>\n",
              "      <th></th>\n",
              "      <th></th>\n",
              "      <th></th>\n",
              "      <th></th>\n",
              "    </tr>\n",
              "  </thead>\n",
              "  <tbody>\n",
              "    <tr>\n",
              "      <th rowspan=\"5\" valign=\"top\">DLC_dlcrnetms5_SilkwormsJul20shuffle1_9000</th>\n",
              "      <th rowspan=\"5\" valign=\"top\">alert</th>\n",
              "      <th rowspan=\"3\" valign=\"top\">head</th>\n",
              "      <th>x</th>\n",
              "      <td>234.487</td>\n",
              "      <td>237.271</td>\n",
              "      <td>234.828</td>\n",
              "      <td>234.284</td>\n",
              "      <td>237.107</td>\n",
              "      <td>237.731</td>\n",
              "      <td>238.856</td>\n",
              "      <td>239.315</td>\n",
              "      <td>238.239</td>\n",
              "      <td>234.867</td>\n",
              "      <td>...</td>\n",
              "      <td>631.843</td>\n",
              "      <td>596.221</td>\n",
              "      <td>590.996</td>\n",
              "      <td>545.465</td>\n",
              "      <td>555.211</td>\n",
              "      <td>588.094</td>\n",
              "      <td>588.259</td>\n",
              "      <td>592.335</td>\n",
              "      <td>588.951</td>\n",
              "      <td>588.058</td>\n",
              "    </tr>\n",
              "    <tr>\n",
              "      <th>y</th>\n",
              "      <td>429.002</td>\n",
              "      <td>423.151</td>\n",
              "      <td>419.745</td>\n",
              "      <td>415.219</td>\n",
              "      <td>410.720</td>\n",
              "      <td>412.922</td>\n",
              "      <td>406.273</td>\n",
              "      <td>408.144</td>\n",
              "      <td>404.058</td>\n",
              "      <td>395.411</td>\n",
              "      <td>...</td>\n",
              "      <td>333.002</td>\n",
              "      <td>359.517</td>\n",
              "      <td>382.756</td>\n",
              "      <td>312.462</td>\n",
              "      <td>372.224</td>\n",
              "      <td>380.411</td>\n",
              "      <td>381.062</td>\n",
              "      <td>375.941</td>\n",
              "      <td>376.680</td>\n",
              "      <td>377.799</td>\n",
              "    </tr>\n",
              "    <tr>\n",
              "      <th>likelihood</th>\n",
              "      <td>1.000</td>\n",
              "      <td>1.000</td>\n",
              "      <td>1.000</td>\n",
              "      <td>1.000</td>\n",
              "      <td>1.000</td>\n",
              "      <td>1.000</td>\n",
              "      <td>1.000</td>\n",
              "      <td>1.000</td>\n",
              "      <td>1.000</td>\n",
              "      <td>1.000</td>\n",
              "      <td>...</td>\n",
              "      <td>0.999</td>\n",
              "      <td>1.000</td>\n",
              "      <td>1.000</td>\n",
              "      <td>0.998</td>\n",
              "      <td>1.000</td>\n",
              "      <td>1.000</td>\n",
              "      <td>1.000</td>\n",
              "      <td>1.000</td>\n",
              "      <td>0.995</td>\n",
              "      <td>0.997</td>\n",
              "    </tr>\n",
              "    <tr>\n",
              "      <th rowspan=\"2\" valign=\"top\">ganzyou</th>\n",
              "      <th>x</th>\n",
              "      <td>235.801</td>\n",
              "      <td>237.946</td>\n",
              "      <td>237.035</td>\n",
              "      <td>237.573</td>\n",
              "      <td>236.649</td>\n",
              "      <td>237.601</td>\n",
              "      <td>236.789</td>\n",
              "      <td>236.280</td>\n",
              "      <td>238.653</td>\n",
              "      <td>236.019</td>\n",
              "      <td>...</td>\n",
              "      <td>620.566</td>\n",
              "      <td>593.319</td>\n",
              "      <td>589.360</td>\n",
              "      <td>548.706</td>\n",
              "      <td>558.616</td>\n",
              "      <td>589.115</td>\n",
              "      <td>589.813</td>\n",
              "      <td>591.956</td>\n",
              "      <td>590.876</td>\n",
              "      <td>590.655</td>\n",
              "    </tr>\n",
              "    <tr>\n",
              "      <th>y</th>\n",
              "      <td>431.654</td>\n",
              "      <td>428.620</td>\n",
              "      <td>425.786</td>\n",
              "      <td>419.346</td>\n",
              "      <td>412.833</td>\n",
              "      <td>414.781</td>\n",
              "      <td>409.988</td>\n",
              "      <td>411.331</td>\n",
              "      <td>409.969</td>\n",
              "      <td>404.009</td>\n",
              "      <td>...</td>\n",
              "      <td>329.814</td>\n",
              "      <td>349.972</td>\n",
              "      <td>376.196</td>\n",
              "      <td>315.695</td>\n",
              "      <td>362.070</td>\n",
              "      <td>373.155</td>\n",
              "      <td>373.289</td>\n",
              "      <td>367.537</td>\n",
              "      <td>368.596</td>\n",
              "      <td>370.238</td>\n",
              "    </tr>\n",
              "  </tbody>\n",
              "</table>\n",
              "<p>5 rows × 8996 columns</p>\n",
              "</div>\n",
              "      <button class=\"colab-df-convert\" onclick=\"convertToInteractive('df-300e2e73-c15f-46fd-b194-535b01817972')\"\n",
              "              title=\"Convert this dataframe to an interactive table.\"\n",
              "              style=\"display:none;\">\n",
              "        \n",
              "  <svg xmlns=\"http://www.w3.org/2000/svg\" height=\"24px\"viewBox=\"0 0 24 24\"\n",
              "       width=\"24px\">\n",
              "    <path d=\"M0 0h24v24H0V0z\" fill=\"none\"/>\n",
              "    <path d=\"M18.56 5.44l.94 2.06.94-2.06 2.06-.94-2.06-.94-.94-2.06-.94 2.06-2.06.94zm-11 1L8.5 8.5l.94-2.06 2.06-.94-2.06-.94L8.5 2.5l-.94 2.06-2.06.94zm10 10l.94 2.06.94-2.06 2.06-.94-2.06-.94-.94-2.06-.94 2.06-2.06.94z\"/><path d=\"M17.41 7.96l-1.37-1.37c-.4-.4-.92-.59-1.43-.59-.52 0-1.04.2-1.43.59L10.3 9.45l-7.72 7.72c-.78.78-.78 2.05 0 2.83L4 21.41c.39.39.9.59 1.41.59.51 0 1.02-.2 1.41-.59l7.78-7.78 2.81-2.81c.8-.78.8-2.07 0-2.86zM5.41 20L4 18.59l7.72-7.72 1.47 1.35L5.41 20z\"/>\n",
              "  </svg>\n",
              "      </button>\n",
              "      \n",
              "  <style>\n",
              "    .colab-df-container {\n",
              "      display:flex;\n",
              "      flex-wrap:wrap;\n",
              "      gap: 12px;\n",
              "    }\n",
              "\n",
              "    .colab-df-convert {\n",
              "      background-color: #E8F0FE;\n",
              "      border: none;\n",
              "      border-radius: 50%;\n",
              "      cursor: pointer;\n",
              "      display: none;\n",
              "      fill: #1967D2;\n",
              "      height: 32px;\n",
              "      padding: 0 0 0 0;\n",
              "      width: 32px;\n",
              "    }\n",
              "\n",
              "    .colab-df-convert:hover {\n",
              "      background-color: #E2EBFA;\n",
              "      box-shadow: 0px 1px 2px rgba(60, 64, 67, 0.3), 0px 1px 3px 1px rgba(60, 64, 67, 0.15);\n",
              "      fill: #174EA6;\n",
              "    }\n",
              "\n",
              "    [theme=dark] .colab-df-convert {\n",
              "      background-color: #3B4455;\n",
              "      fill: #D2E3FC;\n",
              "    }\n",
              "\n",
              "    [theme=dark] .colab-df-convert:hover {\n",
              "      background-color: #434B5C;\n",
              "      box-shadow: 0px 1px 3px 1px rgba(0, 0, 0, 0.15);\n",
              "      filter: drop-shadow(0px 1px 2px rgba(0, 0, 0, 0.3));\n",
              "      fill: #FFFFFF;\n",
              "    }\n",
              "  </style>\n",
              "\n",
              "      <script>\n",
              "        const buttonEl =\n",
              "          document.querySelector('#df-300e2e73-c15f-46fd-b194-535b01817972 button.colab-df-convert');\n",
              "        buttonEl.style.display =\n",
              "          google.colab.kernel.accessAllowed ? 'block' : 'none';\n",
              "\n",
              "        async function convertToInteractive(key) {\n",
              "          const element = document.querySelector('#df-300e2e73-c15f-46fd-b194-535b01817972');\n",
              "          const dataTable =\n",
              "            await google.colab.kernel.invokeFunction('convertToInteractive',\n",
              "                                                     [key], {});\n",
              "          if (!dataTable) return;\n",
              "\n",
              "          const docLinkHtml = 'Like what you see? Visit the ' +\n",
              "            '<a target=\"_blank\" href=https://colab.research.google.com/notebooks/data_table.ipynb>data table notebook</a>'\n",
              "            + ' to learn more about interactive tables.';\n",
              "          element.innerHTML = '';\n",
              "          dataTable['output_type'] = 'display_data';\n",
              "          await google.colab.output.renderOutput(dataTable, element);\n",
              "          const docLink = document.createElement('div');\n",
              "          docLink.innerHTML = docLinkHtml;\n",
              "          element.appendChild(docLink);\n",
              "        }\n",
              "      </script>\n",
              "    </div>\n",
              "  </div>\n",
              "  "
            ]
          },
          "metadata": {},
          "execution_count": 123
        }
      ]
    },
    {
      "cell_type": "code",
      "source": [
        "Dataframe = Df_T.loc[('DLC_dlcrnetms5_SilkwormsJul20shuffle1_9000','alert')]\n"
      ],
      "metadata": {
        "id": "2r1vBVQB2FAY"
      },
      "execution_count": 127,
      "outputs": []
    },
    {
      "cell_type": "code",
      "source": [
        "Dataframe.columns.values"
      ],
      "metadata": {
        "colab": {
          "base_uri": "https://localhost:8080/"
        },
        "id": "iZybckSS8sAH",
        "outputId": "70eda9c6-c1d6-4456-d2e8-b573260bdb07"
      },
      "execution_count": 128,
      "outputs": [
        {
          "output_type": "execute_result",
          "data": {
            "text/plain": [
              "array([   0,    1,    2, ..., 8993, 8994, 8995])"
            ]
          },
          "metadata": {},
          "execution_count": 128
        }
      ]
    },
    {
      "cell_type": "code",
      "source": [
        "Dataframe = Dataframe.T\n",
        "Dataframe.head()"
      ],
      "metadata": {
        "colab": {
          "base_uri": "https://localhost:8080/",
          "height": 237
        },
        "id": "3iAiX2s7DOtr",
        "outputId": "bddc616e-e775-4e29-e889-1bef3b8fdd85"
      },
      "execution_count": 129,
      "outputs": [
        {
          "output_type": "execute_result",
          "data": {
            "text/plain": [
              "bodyparts     head                      ganzyou                     hirazuki  \\\n",
              "coords           x        y likelihood        x        y likelihood        x   \n",
              "0          234.487  429.002        1.0  235.801  431.654        1.0  278.057   \n",
              "1          237.271  423.151        1.0  237.946  428.620        1.0  276.581   \n",
              "2          234.828  419.745        1.0  237.035  425.786        1.0  278.048   \n",
              "3          234.284  415.219        1.0  237.573  419.346        1.0  276.213   \n",
              "4          237.107  410.720        1.0  236.649  412.833        1.0  277.617   \n",
              "\n",
              "bodyparts                       oshiri                      \n",
              "coords           y likelihood        x        y likelihood  \n",
              "0          438.421      1.000  364.507  385.132      0.768  \n",
              "1          435.797      1.000  362.160  384.937      0.977  \n",
              "2          433.119      0.997      NaN      NaN      0.000  \n",
              "3          429.665      1.000  357.997  384.873      0.959  \n",
              "4          429.254      1.000  358.202  384.995      0.965  "
            ],
            "text/html": [
              "\n",
              "  <div id=\"df-cc76b77f-6064-4044-bbcb-fa9e77758daf\">\n",
              "    <div class=\"colab-df-container\">\n",
              "      <div>\n",
              "<style scoped>\n",
              "    .dataframe tbody tr th:only-of-type {\n",
              "        vertical-align: middle;\n",
              "    }\n",
              "\n",
              "    .dataframe tbody tr th {\n",
              "        vertical-align: top;\n",
              "    }\n",
              "\n",
              "    .dataframe thead tr th {\n",
              "        text-align: left;\n",
              "    }\n",
              "</style>\n",
              "<table border=\"1\" class=\"dataframe\">\n",
              "  <thead>\n",
              "    <tr>\n",
              "      <th>bodyparts</th>\n",
              "      <th colspan=\"3\" halign=\"left\">head</th>\n",
              "      <th colspan=\"3\" halign=\"left\">ganzyou</th>\n",
              "      <th colspan=\"3\" halign=\"left\">hirazuki</th>\n",
              "      <th colspan=\"3\" halign=\"left\">oshiri</th>\n",
              "    </tr>\n",
              "    <tr>\n",
              "      <th>coords</th>\n",
              "      <th>x</th>\n",
              "      <th>y</th>\n",
              "      <th>likelihood</th>\n",
              "      <th>x</th>\n",
              "      <th>y</th>\n",
              "      <th>likelihood</th>\n",
              "      <th>x</th>\n",
              "      <th>y</th>\n",
              "      <th>likelihood</th>\n",
              "      <th>x</th>\n",
              "      <th>y</th>\n",
              "      <th>likelihood</th>\n",
              "    </tr>\n",
              "  </thead>\n",
              "  <tbody>\n",
              "    <tr>\n",
              "      <th>0</th>\n",
              "      <td>234.487</td>\n",
              "      <td>429.002</td>\n",
              "      <td>1.0</td>\n",
              "      <td>235.801</td>\n",
              "      <td>431.654</td>\n",
              "      <td>1.0</td>\n",
              "      <td>278.057</td>\n",
              "      <td>438.421</td>\n",
              "      <td>1.000</td>\n",
              "      <td>364.507</td>\n",
              "      <td>385.132</td>\n",
              "      <td>0.768</td>\n",
              "    </tr>\n",
              "    <tr>\n",
              "      <th>1</th>\n",
              "      <td>237.271</td>\n",
              "      <td>423.151</td>\n",
              "      <td>1.0</td>\n",
              "      <td>237.946</td>\n",
              "      <td>428.620</td>\n",
              "      <td>1.0</td>\n",
              "      <td>276.581</td>\n",
              "      <td>435.797</td>\n",
              "      <td>1.000</td>\n",
              "      <td>362.160</td>\n",
              "      <td>384.937</td>\n",
              "      <td>0.977</td>\n",
              "    </tr>\n",
              "    <tr>\n",
              "      <th>2</th>\n",
              "      <td>234.828</td>\n",
              "      <td>419.745</td>\n",
              "      <td>1.0</td>\n",
              "      <td>237.035</td>\n",
              "      <td>425.786</td>\n",
              "      <td>1.0</td>\n",
              "      <td>278.048</td>\n",
              "      <td>433.119</td>\n",
              "      <td>0.997</td>\n",
              "      <td>NaN</td>\n",
              "      <td>NaN</td>\n",
              "      <td>0.000</td>\n",
              "    </tr>\n",
              "    <tr>\n",
              "      <th>3</th>\n",
              "      <td>234.284</td>\n",
              "      <td>415.219</td>\n",
              "      <td>1.0</td>\n",
              "      <td>237.573</td>\n",
              "      <td>419.346</td>\n",
              "      <td>1.0</td>\n",
              "      <td>276.213</td>\n",
              "      <td>429.665</td>\n",
              "      <td>1.000</td>\n",
              "      <td>357.997</td>\n",
              "      <td>384.873</td>\n",
              "      <td>0.959</td>\n",
              "    </tr>\n",
              "    <tr>\n",
              "      <th>4</th>\n",
              "      <td>237.107</td>\n",
              "      <td>410.720</td>\n",
              "      <td>1.0</td>\n",
              "      <td>236.649</td>\n",
              "      <td>412.833</td>\n",
              "      <td>1.0</td>\n",
              "      <td>277.617</td>\n",
              "      <td>429.254</td>\n",
              "      <td>1.000</td>\n",
              "      <td>358.202</td>\n",
              "      <td>384.995</td>\n",
              "      <td>0.965</td>\n",
              "    </tr>\n",
              "  </tbody>\n",
              "</table>\n",
              "</div>\n",
              "      <button class=\"colab-df-convert\" onclick=\"convertToInteractive('df-cc76b77f-6064-4044-bbcb-fa9e77758daf')\"\n",
              "              title=\"Convert this dataframe to an interactive table.\"\n",
              "              style=\"display:none;\">\n",
              "        \n",
              "  <svg xmlns=\"http://www.w3.org/2000/svg\" height=\"24px\"viewBox=\"0 0 24 24\"\n",
              "       width=\"24px\">\n",
              "    <path d=\"M0 0h24v24H0V0z\" fill=\"none\"/>\n",
              "    <path d=\"M18.56 5.44l.94 2.06.94-2.06 2.06-.94-2.06-.94-.94-2.06-.94 2.06-2.06.94zm-11 1L8.5 8.5l.94-2.06 2.06-.94-2.06-.94L8.5 2.5l-.94 2.06-2.06.94zm10 10l.94 2.06.94-2.06 2.06-.94-2.06-.94-.94-2.06-.94 2.06-2.06.94z\"/><path d=\"M17.41 7.96l-1.37-1.37c-.4-.4-.92-.59-1.43-.59-.52 0-1.04.2-1.43.59L10.3 9.45l-7.72 7.72c-.78.78-.78 2.05 0 2.83L4 21.41c.39.39.9.59 1.41.59.51 0 1.02-.2 1.41-.59l7.78-7.78 2.81-2.81c.8-.78.8-2.07 0-2.86zM5.41 20L4 18.59l7.72-7.72 1.47 1.35L5.41 20z\"/>\n",
              "  </svg>\n",
              "      </button>\n",
              "      \n",
              "  <style>\n",
              "    .colab-df-container {\n",
              "      display:flex;\n",
              "      flex-wrap:wrap;\n",
              "      gap: 12px;\n",
              "    }\n",
              "\n",
              "    .colab-df-convert {\n",
              "      background-color: #E8F0FE;\n",
              "      border: none;\n",
              "      border-radius: 50%;\n",
              "      cursor: pointer;\n",
              "      display: none;\n",
              "      fill: #1967D2;\n",
              "      height: 32px;\n",
              "      padding: 0 0 0 0;\n",
              "      width: 32px;\n",
              "    }\n",
              "\n",
              "    .colab-df-convert:hover {\n",
              "      background-color: #E2EBFA;\n",
              "      box-shadow: 0px 1px 2px rgba(60, 64, 67, 0.3), 0px 1px 3px 1px rgba(60, 64, 67, 0.15);\n",
              "      fill: #174EA6;\n",
              "    }\n",
              "\n",
              "    [theme=dark] .colab-df-convert {\n",
              "      background-color: #3B4455;\n",
              "      fill: #D2E3FC;\n",
              "    }\n",
              "\n",
              "    [theme=dark] .colab-df-convert:hover {\n",
              "      background-color: #434B5C;\n",
              "      box-shadow: 0px 1px 3px 1px rgba(0, 0, 0, 0.15);\n",
              "      filter: drop-shadow(0px 1px 2px rgba(0, 0, 0, 0.3));\n",
              "      fill: #FFFFFF;\n",
              "    }\n",
              "  </style>\n",
              "\n",
              "      <script>\n",
              "        const buttonEl =\n",
              "          document.querySelector('#df-cc76b77f-6064-4044-bbcb-fa9e77758daf button.colab-df-convert');\n",
              "        buttonEl.style.display =\n",
              "          google.colab.kernel.accessAllowed ? 'block' : 'none';\n",
              "\n",
              "        async function convertToInteractive(key) {\n",
              "          const element = document.querySelector('#df-cc76b77f-6064-4044-bbcb-fa9e77758daf');\n",
              "          const dataTable =\n",
              "            await google.colab.kernel.invokeFunction('convertToInteractive',\n",
              "                                                     [key], {});\n",
              "          if (!dataTable) return;\n",
              "\n",
              "          const docLinkHtml = 'Like what you see? Visit the ' +\n",
              "            '<a target=\"_blank\" href=https://colab.research.google.com/notebooks/data_table.ipynb>data table notebook</a>'\n",
              "            + ' to learn more about interactive tables.';\n",
              "          element.innerHTML = '';\n",
              "          dataTable['output_type'] = 'display_data';\n",
              "          await google.colab.output.renderOutput(dataTable, element);\n",
              "          const docLink = document.createElement('div');\n",
              "          docLink.innerHTML = docLinkHtml;\n",
              "          element.appendChild(docLink);\n",
              "        }\n",
              "      </script>\n",
              "    </div>\n",
              "  </div>\n",
              "  "
            ]
          },
          "metadata": {},
          "execution_count": 129
        }
      ]
    },
    {
      "cell_type": "code",
      "source": [
        "# matplolibの色を設定(rf:https://matplotlib.org/stable/tutorials/colors/colormaps.html)\n",
        "def get_cmap(n, name='Purples'):\n",
        "  return plt.cm.get_cmap(name,n)"
      ],
      "metadata": {
        "id": "bOeWdYXS-TL4"
      },
      "execution_count": 54,
      "outputs": []
    },
    {
      "cell_type": "code",
      "source": [
        "Dataframe.columns.values"
      ],
      "metadata": {
        "colab": {
          "base_uri": "https://localhost:8080/"
        },
        "id": "-ivuUV0iDTIY",
        "outputId": "7573f33c-de13-42e2-c569-b8c36fc4a952"
      },
      "execution_count": 112,
      "outputs": [
        {
          "output_type": "execute_result",
          "data": {
            "text/plain": [
              "array([('head', 'x'), ('head', 'y'), ('head', 'likelihood'),\n",
              "       ('ganzyou', 'x'), ('ganzyou', 'y'), ('ganzyou', 'likelihood'),\n",
              "       ('hirazuki', 'x'), ('hirazuki', 'y'), ('hirazuki', 'likelihood'),\n",
              "       ('oshiri', 'x'), ('oshiri', 'y'), ('oshiri', 'likelihood')],\n",
              "      dtype=object)"
            ]
          },
          "metadata": {},
          "execution_count": 112
        }
      ]
    },
    {
      "cell_type": "code",
      "source": [
        "def Histogram(vector,color,bins):\n",
        "  # vectorは、恐らくデータ。\n",
        "  # np.diffでvectorにあるデータの差分(dvector)をとる\n",
        "  dvector = np.diff(vector)\n",
        "  # np.isfinite（）関数は、有限かどうか（無限大ではないか、数値ではないか）を要素ごとにテストし、結果をブール配列として返す。\n",
        "  dvector = dvector[np.isfinite(dvector)]\n",
        "  # histtype:ヒストグラムの形,binsは階級数\n",
        "  plt.hist(dvector,color=color,histtype='step',bins=bins)"
      ],
      "metadata": {
        "id": "SshJlpyK_g89"
      },
      "execution_count": 55,
      "outputs": []
    },
    {
      "cell_type": "markdown",
      "source": [
        "Plot poses vs time; pose x vs pose y; histgram of differences and likelihoods."
      ],
      "metadata": {
        "id": "GfNk7VKjZq7k"
      }
    },
    {
      "cell_type": "code",
      "source": [
        "from pandas.core.indexes.base import Index\n",
        "def PlottingResults(Dataframe, bodyparts2plot,alphavalue=.2,pcutoff=.5,colormap='jet',fs=(4,3)):\n",
        "    plt.figure(figsize=fs)\n",
        "    colors = get_cmap(len(bodyparts2plot), name = colormap)\n",
        "    # Dataframe colums names=>['scorer', 'individuals', 'bodyparts', 'coords'])\n",
        "    # 先頭の一個目をscorerに格納\n",
        "    scorer = Dataframe.columns.get_level_values(0)[0] \n",
        "\n",
        "    #bodyparts2plotの要素のインデックスと要素を同時に取り出す \n",
        "    #bpはBodyPartsの略\n",
        "    for bpindex, bp in enumerate(bodyparts2plot):\n",
        "        Index=Dataframe[scorer][bp]['likelihood'].values > pcutoff\n",
        "    # 時間ごとに、bpの尤度をプロット\n",
        "        plt.plot(Time, Dataframe[scorer][bp]['likelihood'].values,'-',color=colors(bpindex),alpha=alphavalue)\n",
        "\n",
        "  # ちょいとよく分からん\n",
        "    sm = plt.cm.ScalarMappable(cmap=plt.get_cmap(colormap), norm=plt.Normalize(vmin=0, vmax=len(bodyparts2plot)-1))\n",
        "    sm._A = []\n",
        "    cbar = plt.colorbar(sm,ticks=range(len(bodyparts2plot)))\n",
        "    cbar.set_ticklabels(bodyparts2plot)\n",
        "    plt.xlabel('Frame Index')\n",
        "    plt.ylabel('likelihood')\n",
        "\n",
        "    plt.figure(figsize=fs)\n",
        "    bins = np.linspace(0, np.amax(Dataframe.max()),100)\n",
        "\n",
        "    for bpindex, bp in enumerate(bodyparts2plot):\n",
        "        Index = Dataframe[scorer][bp]['likelihood'].values < pcutoff\n",
        "        X = Dataframe[scorer][bp]['x'].values\n",
        "        X[Index] = np.nan\n",
        "        Histogram(X,colors(bpindex),bins)\n",
        "        Y[Index] = np.nan\n",
        "        Histogram(Y,colors(bpindex),bins)\n",
        "\n",
        "    sm = plt.cm.ScalarMappable(cmap=plt.get_cmap(colormap),norm=plt.Normalize(vmin=0,vmax=len(bodyparts2plot)-1))\n",
        "    sm._A = []\n",
        "    cbar = plt.colorbar(sm, ticks=range(len(bodyparts2plot)))\n",
        "    plt.ylabel('Count')\n",
        "    plt.xlabel('Delta X and Delta Y')"
      ],
      "metadata": {
        "id": "yqBdL4IRDftK"
      },
      "execution_count": 47,
      "outputs": []
    },
    {
      "cell_type": "code",
      "source": [
        "# Dataframeのindexにおける列の二個目をbodypartsに格納\n",
        "# \n",
        "bodyparts = Dataframe.columns\n",
        "bodyparts"
      ],
      "metadata": {
        "colab": {
          "base_uri": "https://localhost:8080/"
        },
        "id": "YY1MSnOxZU6R",
        "outputId": "02251c56-feed-4f8e-bff8-eb127fbdd0b5"
      },
      "execution_count": null,
      "outputs": [
        {
          "output_type": "execute_result",
          "data": {
            "text/plain": [
              "MultiIndex([('DLC_dlcrnetms5_SilkwormsJul20shuffle1_9000', 'control', ...),\n",
              "            ('DLC_dlcrnetms5_SilkwormsJul20shuffle1_9000', 'control', ...),\n",
              "            ('DLC_dlcrnetms5_SilkwormsJul20shuffle1_9000', 'control', ...),\n",
              "            ('DLC_dlcrnetms5_SilkwormsJul20shuffle1_9000', 'control', ...),\n",
              "            ('DLC_dlcrnetms5_SilkwormsJul20shuffle1_9000', 'control', ...),\n",
              "            ('DLC_dlcrnetms5_SilkwormsJul20shuffle1_9000', 'control', ...),\n",
              "            ('DLC_dlcrnetms5_SilkwormsJul20shuffle1_9000', 'control', ...),\n",
              "            ('DLC_dlcrnetms5_SilkwormsJul20shuffle1_9000', 'control', ...),\n",
              "            ('DLC_dlcrnetms5_SilkwormsJul20shuffle1_9000', 'control', ...),\n",
              "            ('DLC_dlcrnetms5_SilkwormsJul20shuffle1_9000', 'control', ...),\n",
              "            ('DLC_dlcrnetms5_SilkwormsJul20shuffle1_9000', 'control', ...),\n",
              "            ('DLC_dlcrnetms5_SilkwormsJul20shuffle1_9000', 'control', ...),\n",
              "            ('DLC_dlcrnetms5_SilkwormsJul20shuffle1_9000',  'yellow', ...),\n",
              "            ('DLC_dlcrnetms5_SilkwormsJul20shuffle1_9000',  'yellow', ...),\n",
              "            ('DLC_dlcrnetms5_SilkwormsJul20shuffle1_9000',  'yellow', ...),\n",
              "            ('DLC_dlcrnetms5_SilkwormsJul20shuffle1_9000',  'yellow', ...),\n",
              "            ('DLC_dlcrnetms5_SilkwormsJul20shuffle1_9000',  'yellow', ...),\n",
              "            ('DLC_dlcrnetms5_SilkwormsJul20shuffle1_9000',  'yellow', ...),\n",
              "            ('DLC_dlcrnetms5_SilkwormsJul20shuffle1_9000',  'yellow', ...),\n",
              "            ('DLC_dlcrnetms5_SilkwormsJul20shuffle1_9000',  'yellow', ...),\n",
              "            ('DLC_dlcrnetms5_SilkwormsJul20shuffle1_9000',  'yellow', ...),\n",
              "            ('DLC_dlcrnetms5_SilkwormsJul20shuffle1_9000',  'yellow', ...),\n",
              "            ('DLC_dlcrnetms5_SilkwormsJul20shuffle1_9000',  'yellow', ...),\n",
              "            ('DLC_dlcrnetms5_SilkwormsJul20shuffle1_9000',  'yellow', ...),\n",
              "            ('DLC_dlcrnetms5_SilkwormsJul20shuffle1_9000',   'black', ...),\n",
              "            ('DLC_dlcrnetms5_SilkwormsJul20shuffle1_9000',   'black', ...),\n",
              "            ('DLC_dlcrnetms5_SilkwormsJul20shuffle1_9000',   'black', ...),\n",
              "            ('DLC_dlcrnetms5_SilkwormsJul20shuffle1_9000',   'black', ...),\n",
              "            ('DLC_dlcrnetms5_SilkwormsJul20shuffle1_9000',   'black', ...),\n",
              "            ('DLC_dlcrnetms5_SilkwormsJul20shuffle1_9000',   'black', ...),\n",
              "            ('DLC_dlcrnetms5_SilkwormsJul20shuffle1_9000',   'black', ...),\n",
              "            ('DLC_dlcrnetms5_SilkwormsJul20shuffle1_9000',   'black', ...),\n",
              "            ('DLC_dlcrnetms5_SilkwormsJul20shuffle1_9000',   'black', ...),\n",
              "            ('DLC_dlcrnetms5_SilkwormsJul20shuffle1_9000',   'black', ...),\n",
              "            ('DLC_dlcrnetms5_SilkwormsJul20shuffle1_9000',   'black', ...),\n",
              "            ('DLC_dlcrnetms5_SilkwormsJul20shuffle1_9000',   'black', ...),\n",
              "            ('DLC_dlcrnetms5_SilkwormsJul20shuffle1_9000',   'alert', ...),\n",
              "            ('DLC_dlcrnetms5_SilkwormsJul20shuffle1_9000',   'alert', ...),\n",
              "            ('DLC_dlcrnetms5_SilkwormsJul20shuffle1_9000',   'alert', ...),\n",
              "            ('DLC_dlcrnetms5_SilkwormsJul20shuffle1_9000',   'alert', ...),\n",
              "            ('DLC_dlcrnetms5_SilkwormsJul20shuffle1_9000',   'alert', ...),\n",
              "            ('DLC_dlcrnetms5_SilkwormsJul20shuffle1_9000',   'alert', ...),\n",
              "            ('DLC_dlcrnetms5_SilkwormsJul20shuffle1_9000',   'alert', ...),\n",
              "            ('DLC_dlcrnetms5_SilkwormsJul20shuffle1_9000',   'alert', ...),\n",
              "            ('DLC_dlcrnetms5_SilkwormsJul20shuffle1_9000',   'alert', ...),\n",
              "            ('DLC_dlcrnetms5_SilkwormsJul20shuffle1_9000',   'alert', ...),\n",
              "            ('DLC_dlcrnetms5_SilkwormsJul20shuffle1_9000',   'alert', ...),\n",
              "            ('DLC_dlcrnetms5_SilkwormsJul20shuffle1_9000',   'alert', ...)],\n",
              "           names=['scorer', 'individuals', 'bodyparts', 'coords'])"
            ]
          },
          "metadata": {},
          "execution_count": 36
        }
      ]
    },
    {
      "cell_type": "code",
      "source": [
        "bodyparts = Dataframe.columns.get_level_values(0)\n",
        "bodyparts\n",
        "bodyparts2plot=['hirazuki']\n",
        "bodyparts2plot"
      ],
      "metadata": {
        "colab": {
          "base_uri": "https://localhost:8080/"
        },
        "id": "WbCXdqvwr4AH",
        "outputId": "0e58143e-7bb9-4384-9d70-a38130bc017a"
      },
      "execution_count": 168,
      "outputs": [
        {
          "output_type": "execute_result",
          "data": {
            "text/plain": [
              "['hirazuki']"
            ]
          },
          "metadata": {},
          "execution_count": 168
        }
      ]
    },
    {
      "cell_type": "code",
      "source": [
        "# Dataframeのindexにおける列の二個目をbodypartsに格納\n",
        "# names=['scorer', 'individuals', 'bodyparts', 'coords'])\n",
        "bodyparts = Dataframe.columns.get_level_values(0)\n",
        "bodyparts2plot = bodyparts\n",
        "bodyparts2plot=['hirazuki']\n",
        "%matplotlib inline \n",
        "PlottingResults(Dataframe, bodyparts2plot,alphavalue=.2,pcutoff=.5,fs=(8,4))"
      ],
      "metadata": {
        "colab": {
          "base_uri": "https://localhost:8080/",
          "height": 540
        },
        "outputId": "cec1b9a8-1e24-4863-acfd-738409436957",
        "id": "WeENh-Pqc8rL"
      },
      "execution_count": 166,
      "outputs": [
        {
          "output_type": "error",
          "ename": "KeyError",
          "evalue": "ignored",
          "traceback": [
            "\u001b[0;31m---------------------------------------------------------------------------\u001b[0m",
            "\u001b[0;31mKeyError\u001b[0m                                  Traceback (most recent call last)",
            "\u001b[0;32m/usr/local/lib/python3.7/dist-packages/pandas/core/indexes/base.py\u001b[0m in \u001b[0;36mget_loc\u001b[0;34m(self, key, method, tolerance)\u001b[0m\n\u001b[1;32m   3360\u001b[0m             \u001b[0;32mtry\u001b[0m\u001b[0;34m:\u001b[0m\u001b[0;34m\u001b[0m\u001b[0;34m\u001b[0m\u001b[0m\n\u001b[0;32m-> 3361\u001b[0;31m                 \u001b[0;32mreturn\u001b[0m \u001b[0mself\u001b[0m\u001b[0;34m.\u001b[0m\u001b[0m_engine\u001b[0m\u001b[0;34m.\u001b[0m\u001b[0mget_loc\u001b[0m\u001b[0;34m(\u001b[0m\u001b[0mcasted_key\u001b[0m\u001b[0;34m)\u001b[0m\u001b[0;34m\u001b[0m\u001b[0;34m\u001b[0m\u001b[0m\n\u001b[0m\u001b[1;32m   3362\u001b[0m             \u001b[0;32mexcept\u001b[0m \u001b[0mKeyError\u001b[0m \u001b[0;32mas\u001b[0m \u001b[0merr\u001b[0m\u001b[0;34m:\u001b[0m\u001b[0;34m\u001b[0m\u001b[0;34m\u001b[0m\u001b[0m\n",
            "\u001b[0;32m/usr/local/lib/python3.7/dist-packages/pandas/_libs/index.pyx\u001b[0m in \u001b[0;36mpandas._libs.index.IndexEngine.get_loc\u001b[0;34m()\u001b[0m\n",
            "\u001b[0;32m/usr/local/lib/python3.7/dist-packages/pandas/_libs/index.pyx\u001b[0m in \u001b[0;36mpandas._libs.index.IndexEngine.get_loc\u001b[0;34m()\u001b[0m\n",
            "\u001b[0;32mpandas/_libs/hashtable_class_helper.pxi\u001b[0m in \u001b[0;36mpandas._libs.hashtable.PyObjectHashTable.get_item\u001b[0;34m()\u001b[0m\n",
            "\u001b[0;32mpandas/_libs/hashtable_class_helper.pxi\u001b[0m in \u001b[0;36mpandas._libs.hashtable.PyObjectHashTable.get_item\u001b[0;34m()\u001b[0m\n",
            "\u001b[0;31mKeyError\u001b[0m: 'hirazuki'",
            "\nThe above exception was the direct cause of the following exception:\n",
            "\u001b[0;31mKeyError\u001b[0m                                  Traceback (most recent call last)",
            "\u001b[0;32m<ipython-input-166-5a7a9e62cd15>\u001b[0m in \u001b[0;36m<module>\u001b[0;34m()\u001b[0m\n\u001b[1;32m      5\u001b[0m \u001b[0mbodyparts2plot\u001b[0m\u001b[0;34m=\u001b[0m\u001b[0;34m[\u001b[0m\u001b[0;34m'hirazuki'\u001b[0m\u001b[0;34m]\u001b[0m\u001b[0;34m\u001b[0m\u001b[0;34m\u001b[0m\u001b[0m\n\u001b[1;32m      6\u001b[0m \u001b[0mget_ipython\u001b[0m\u001b[0;34m(\u001b[0m\u001b[0;34m)\u001b[0m\u001b[0;34m.\u001b[0m\u001b[0mmagic\u001b[0m\u001b[0;34m(\u001b[0m\u001b[0;34m'matplotlib inline'\u001b[0m\u001b[0;34m)\u001b[0m\u001b[0;34m\u001b[0m\u001b[0;34m\u001b[0m\u001b[0m\n\u001b[0;32m----> 7\u001b[0;31m \u001b[0mPlottingResults\u001b[0m\u001b[0;34m(\u001b[0m\u001b[0mDataframe\u001b[0m\u001b[0;34m,\u001b[0m \u001b[0mbodyparts2plot\u001b[0m\u001b[0;34m,\u001b[0m\u001b[0malphavalue\u001b[0m\u001b[0;34m=\u001b[0m\u001b[0;36m.2\u001b[0m\u001b[0;34m,\u001b[0m\u001b[0mpcutoff\u001b[0m\u001b[0;34m=\u001b[0m\u001b[0;36m.5\u001b[0m\u001b[0;34m,\u001b[0m\u001b[0mfs\u001b[0m\u001b[0;34m=\u001b[0m\u001b[0;34m(\u001b[0m\u001b[0;36m8\u001b[0m\u001b[0;34m,\u001b[0m\u001b[0;36m4\u001b[0m\u001b[0;34m)\u001b[0m\u001b[0;34m)\u001b[0m\u001b[0;34m\u001b[0m\u001b[0;34m\u001b[0m\u001b[0m\n\u001b[0m",
            "\u001b[0;32m<ipython-input-162-9d1dd427232d>\u001b[0m in \u001b[0;36mPlottingResults\u001b[0;34m(Dataframe, bodyparts2plot, alphavalue, pcutoff, colormap, fs)\u001b[0m\n\u001b[1;32m     14\u001b[0m \u001b[0;34m\u001b[0m\u001b[0m\n\u001b[1;32m     15\u001b[0m     \u001b[0;32mfor\u001b[0m \u001b[0mbpindex\u001b[0m\u001b[0;34m,\u001b[0m \u001b[0mbp\u001b[0m \u001b[0;32min\u001b[0m \u001b[0menumerate\u001b[0m\u001b[0;34m(\u001b[0m\u001b[0mbodyparts2plot\u001b[0m\u001b[0;34m)\u001b[0m\u001b[0;34m:\u001b[0m\u001b[0;34m\u001b[0m\u001b[0;34m\u001b[0m\u001b[0m\n\u001b[0;32m---> 16\u001b[0;31m         \u001b[0mIndex\u001b[0m\u001b[0;34m=\u001b[0m\u001b[0mDataframe\u001b[0m\u001b[0;34m[\u001b[0m\u001b[0mscorer\u001b[0m\u001b[0;34m]\u001b[0m\u001b[0;34m[\u001b[0m\u001b[0mbp\u001b[0m\u001b[0;34m]\u001b[0m\u001b[0;34m[\u001b[0m\u001b[0;34m'likelihood'\u001b[0m\u001b[0;34m]\u001b[0m\u001b[0;34m.\u001b[0m\u001b[0mvalues\u001b[0m \u001b[0;34m>\u001b[0m \u001b[0mpcutoff\u001b[0m\u001b[0;34m\u001b[0m\u001b[0;34m\u001b[0m\u001b[0m\n\u001b[0m\u001b[1;32m     17\u001b[0m         \u001b[0mplt\u001b[0m\u001b[0;34m.\u001b[0m\u001b[0mplot\u001b[0m\u001b[0;34m(\u001b[0m\u001b[0mDataframe\u001b[0m\u001b[0;34m[\u001b[0m\u001b[0mscorer\u001b[0m\u001b[0;34m]\u001b[0m\u001b[0;34m[\u001b[0m\u001b[0mbp\u001b[0m\u001b[0;34m]\u001b[0m\u001b[0;34m[\u001b[0m\u001b[0;34m'x'\u001b[0m\u001b[0;34m]\u001b[0m\u001b[0;34m.\u001b[0m\u001b[0mvalues\u001b[0m\u001b[0;34m[\u001b[0m\u001b[0mIndex\u001b[0m\u001b[0;34m]\u001b[0m\u001b[0;34m,\u001b[0m\u001b[0mDataframe\u001b[0m\u001b[0;34m[\u001b[0m\u001b[0mscorer\u001b[0m\u001b[0;34m]\u001b[0m\u001b[0;34m[\u001b[0m\u001b[0mbp\u001b[0m\u001b[0;34m]\u001b[0m\u001b[0;34m[\u001b[0m\u001b[0;34m'y'\u001b[0m\u001b[0;34m]\u001b[0m\u001b[0;34m.\u001b[0m\u001b[0mvalues\u001b[0m\u001b[0;34m[\u001b[0m\u001b[0mIndex\u001b[0m\u001b[0;34m]\u001b[0m\u001b[0;34m,\u001b[0m\u001b[0;34m'.'\u001b[0m\u001b[0;34m,\u001b[0m\u001b[0mcolor\u001b[0m\u001b[0;34m=\u001b[0m\u001b[0mcolors\u001b[0m\u001b[0;34m(\u001b[0m\u001b[0mbpindex\u001b[0m\u001b[0;34m)\u001b[0m\u001b[0;34m,\u001b[0m\u001b[0malpha\u001b[0m\u001b[0;34m=\u001b[0m\u001b[0malphavalue\u001b[0m\u001b[0;34m)\u001b[0m\u001b[0;34m\u001b[0m\u001b[0;34m\u001b[0m\u001b[0m\n\u001b[1;32m     18\u001b[0m \u001b[0;34m\u001b[0m\u001b[0m\n",
            "\u001b[0;32m/usr/local/lib/python3.7/dist-packages/pandas/core/frame.py\u001b[0m in \u001b[0;36m__getitem__\u001b[0;34m(self, key)\u001b[0m\n\u001b[1;32m   3456\u001b[0m             \u001b[0;32mif\u001b[0m \u001b[0mself\u001b[0m\u001b[0;34m.\u001b[0m\u001b[0mcolumns\u001b[0m\u001b[0;34m.\u001b[0m\u001b[0mnlevels\u001b[0m \u001b[0;34m>\u001b[0m \u001b[0;36m1\u001b[0m\u001b[0;34m:\u001b[0m\u001b[0;34m\u001b[0m\u001b[0;34m\u001b[0m\u001b[0m\n\u001b[1;32m   3457\u001b[0m                 \u001b[0;32mreturn\u001b[0m \u001b[0mself\u001b[0m\u001b[0;34m.\u001b[0m\u001b[0m_getitem_multilevel\u001b[0m\u001b[0;34m(\u001b[0m\u001b[0mkey\u001b[0m\u001b[0;34m)\u001b[0m\u001b[0;34m\u001b[0m\u001b[0;34m\u001b[0m\u001b[0m\n\u001b[0;32m-> 3458\u001b[0;31m             \u001b[0mindexer\u001b[0m \u001b[0;34m=\u001b[0m \u001b[0mself\u001b[0m\u001b[0;34m.\u001b[0m\u001b[0mcolumns\u001b[0m\u001b[0;34m.\u001b[0m\u001b[0mget_loc\u001b[0m\u001b[0;34m(\u001b[0m\u001b[0mkey\u001b[0m\u001b[0;34m)\u001b[0m\u001b[0;34m\u001b[0m\u001b[0;34m\u001b[0m\u001b[0m\n\u001b[0m\u001b[1;32m   3459\u001b[0m             \u001b[0;32mif\u001b[0m \u001b[0mis_integer\u001b[0m\u001b[0;34m(\u001b[0m\u001b[0mindexer\u001b[0m\u001b[0;34m)\u001b[0m\u001b[0;34m:\u001b[0m\u001b[0;34m\u001b[0m\u001b[0;34m\u001b[0m\u001b[0m\n\u001b[1;32m   3460\u001b[0m                 \u001b[0mindexer\u001b[0m \u001b[0;34m=\u001b[0m \u001b[0;34m[\u001b[0m\u001b[0mindexer\u001b[0m\u001b[0;34m]\u001b[0m\u001b[0;34m\u001b[0m\u001b[0;34m\u001b[0m\u001b[0m\n",
            "\u001b[0;32m/usr/local/lib/python3.7/dist-packages/pandas/core/indexes/base.py\u001b[0m in \u001b[0;36mget_loc\u001b[0;34m(self, key, method, tolerance)\u001b[0m\n\u001b[1;32m   3361\u001b[0m                 \u001b[0;32mreturn\u001b[0m \u001b[0mself\u001b[0m\u001b[0;34m.\u001b[0m\u001b[0m_engine\u001b[0m\u001b[0;34m.\u001b[0m\u001b[0mget_loc\u001b[0m\u001b[0;34m(\u001b[0m\u001b[0mcasted_key\u001b[0m\u001b[0;34m)\u001b[0m\u001b[0;34m\u001b[0m\u001b[0;34m\u001b[0m\u001b[0m\n\u001b[1;32m   3362\u001b[0m             \u001b[0;32mexcept\u001b[0m \u001b[0mKeyError\u001b[0m \u001b[0;32mas\u001b[0m \u001b[0merr\u001b[0m\u001b[0;34m:\u001b[0m\u001b[0;34m\u001b[0m\u001b[0;34m\u001b[0m\u001b[0m\n\u001b[0;32m-> 3363\u001b[0;31m                 \u001b[0;32mraise\u001b[0m \u001b[0mKeyError\u001b[0m\u001b[0;34m(\u001b[0m\u001b[0mkey\u001b[0m\u001b[0;34m)\u001b[0m \u001b[0;32mfrom\u001b[0m \u001b[0merr\u001b[0m\u001b[0;34m\u001b[0m\u001b[0;34m\u001b[0m\u001b[0m\n\u001b[0m\u001b[1;32m   3364\u001b[0m \u001b[0;34m\u001b[0m\u001b[0m\n\u001b[1;32m   3365\u001b[0m         \u001b[0;32mif\u001b[0m \u001b[0mis_scalar\u001b[0m\u001b[0;34m(\u001b[0m\u001b[0mkey\u001b[0m\u001b[0;34m)\u001b[0m \u001b[0;32mand\u001b[0m \u001b[0misna\u001b[0m\u001b[0;34m(\u001b[0m\u001b[0mkey\u001b[0m\u001b[0;34m)\u001b[0m \u001b[0;32mand\u001b[0m \u001b[0;32mnot\u001b[0m \u001b[0mself\u001b[0m\u001b[0;34m.\u001b[0m\u001b[0mhasnans\u001b[0m\u001b[0;34m:\u001b[0m\u001b[0;34m\u001b[0m\u001b[0;34m\u001b[0m\u001b[0m\n",
            "\u001b[0;31mKeyError\u001b[0m: 'hirazuki'"
          ]
        },
        {
          "output_type": "display_data",
          "data": {
            "text/plain": [
              "<Figure size 576x288 with 0 Axes>"
            ]
          },
          "metadata": {}
        }
      ]
    },
    {
      "cell_type": "code",
      "source": [
        ""
      ],
      "metadata": {
        "id": "HBLhT09wao37"
      },
      "execution_count": 161,
      "outputs": []
    },
    {
      "cell_type": "code",
      "execution_count": 162,
      "metadata": {
        "id": "uDkIZkp6IIk3"
      },
      "outputs": [],
      "source": [
        "def get_cmap(n, name='hsv'):\n",
        "    return plt.cm.get_cmap(name, n)\n",
        "\n",
        "def Histogram(vector,color,bins):\n",
        "    dvector=np.diff(vector)\n",
        "    dvector=dvector[np.isfinite(dvector)]\n",
        "    plt.hist(dvector,color=color,histtype='step',bins=bins)\n",
        "\n",
        "def PlottingResults(Dataframe,bodyparts2plot,alphavalue=.2,pcutoff=.5,colormap='jet',fs=(4,3)):\n",
        "    ''' Plots poses vs time; pose x vs pose y; histogram of differences and likelihoods.'''\n",
        "    plt.figure(figsize=fs)\n",
        "    colors = get_cmap(len(bodyparts2plot),name = colormap)\n",
        "    scorer=Dataframe.columns.get_level_values(0)[0] #you can read out the header to get the scorer name!\n",
        "\n",
        "    for bpindex, bp in enumerate(bodyparts2plot):\n",
        "        Index=Dataframe[scorer][bp]['likelihood'].values > pcutoff\n",
        "        plt.plot(Dataframe[scorer][bp]['x'].values[Index],Dataframe[scorer][bp]['y'].values[Index],'.',color=colors(bpindex),alpha=alphavalue)\n",
        "\n",
        "    plt.gca().invert_yaxis()\n",
        "\n",
        "    sm = plt.cm.ScalarMappable(cmap=plt.get_cmap(colormap), norm=plt.Normalize(vmin=0, vmax=len(bodyparts2plot)-1))\n",
        "    sm._A = []\n",
        "    cbar = plt.colorbar(sm,ticks=range(len(bodyparts2plot)))\n",
        "    cbar.set_ticklabels(bodyparts2plot)\n",
        "    #plt.savefig(os.path.join(tmpfolder,\"trajectory\"+suffix))\n",
        "    plt.figure(figsize=fs)\n",
        "    Time=np.arange(np.size(Dataframe[scorer][bodyparts2plot[0]]['x'].values))\n",
        "\n",
        "    for bpindex, bp in enumerate(bodyparts2plot):\n",
        "        Index=Dataframe[scorer][bp]['likelihood'].values > pcutoff\n",
        "        plt.plot(Time[Index],Dataframe[scorer][bp]['x'].values[Index],'--',color=colors(bpindex),alpha=alphavalue)\n",
        "        plt.plot(Time[Index],Dataframe[scorer][bp]['y'].values[Index],'-',color=colors(bpindex),alpha=alphavalue)\n",
        "\n",
        "    sm = plt.cm.ScalarMappable(cmap=plt.get_cmap(colormap), norm=plt.Normalize(vmin=0, vmax=len(bodyparts2plot)-1))\n",
        "    sm._A = []\n",
        "    cbar = plt.colorbar(sm,ticks=range(len(bodyparts2plot)))\n",
        "    cbar.set_ticklabels(bodyparts2plot)\n",
        "    plt.xlabel('Frame index')\n",
        "    plt.ylabel('X and y-position in pixels')\n",
        "    #plt.savefig(os.path.join(tmpfolder,\"plot\"+suffix))\n",
        "\n",
        "    plt.figure(figsize=fs)\n",
        "    for bpindex, bp in enumerate(bodyparts2plot):\n",
        "        Index=Dataframe[scorer][bp]['likelihood'].values > pcutoff\n",
        "        plt.plot(Time,Dataframe[scorer][bp]['likelihood'].values,'-',color=colors(bpindex),alpha=alphavalue)\n",
        "\n",
        "    sm = plt.cm.ScalarMappable(cmap=plt.get_cmap(colormap), norm=plt.Normalize(vmin=0, vmax=len(bodyparts2plot)-1))\n",
        "    sm._A = []\n",
        "    cbar = plt.colorbar(sm,ticks=range(len(bodyparts2plot)))\n",
        "    cbar.set_ticklabels(bodyparts2plot)\n",
        "    plt.xlabel('Frame index')\n",
        "    plt.ylabel('likelihood')\n",
        "\n",
        "    #plt.savefig(os.path.join(tmpfolder,\"plot-likelihood\"+suffix))\n",
        "\n",
        "    plt.figure(figsize=fs)\n",
        "    bins=np.linspace(0,np.amax(Dataframe.max()),100)\n",
        "\n",
        "    for bpindex, bp in enumerate(bodyparts2plot):\n",
        "        Index=Dataframe[scorer][bp]['likelihood'].values < pcutoff\n",
        "        X=Dataframe[scorer][bp]['x'].values\n",
        "        X[Index]=np.nan\n",
        "        Histogram(X,colors(bpindex),bins)\n",
        "        Y=Dataframe[scorer][bp]['x'].values\n",
        "        Y[Index]=np.nan\n",
        "        Histogram(Y,colors(bpindex),bins)\n",
        "\n",
        "    sm = plt.cm.ScalarMappable(cmap=plt.get_cmap(colormap), norm=plt.Normalize(vmin=0, vmax=len(bodyparts2plot)-1))\n",
        "    sm._A = []\n",
        "    cbar = plt.colorbar(sm,ticks=range(len(bodyparts2plot)))\n",
        "    cbar.set_ticklabels(bodyparts2plot)\n",
        "    plt.ylabel('Count')\n",
        "    plt.xlabel('DeltaX and DeltaY')\n",
        "    \n",
        "    #plt.savefig(os.path.join(tmpfolder,\"hist\"+suffix))"
      ]
    },
    {
      "cell_type": "code",
      "execution_count": 163,
      "metadata": {
        "scrolled": false,
        "colab": {
          "base_uri": "https://localhost:8080/",
          "height": 540
        },
        "id": "EsRr9rxBIIk6",
        "outputId": "57a81798-51eb-462b-a4d0-b24eb348cc36"
      },
      "outputs": [
        {
          "output_type": "error",
          "ename": "KeyError",
          "evalue": "ignored",
          "traceback": [
            "\u001b[0;31m---------------------------------------------------------------------------\u001b[0m",
            "\u001b[0;31mKeyError\u001b[0m                                  Traceback (most recent call last)",
            "\u001b[0;32m/usr/local/lib/python3.7/dist-packages/pandas/core/indexes/base.py\u001b[0m in \u001b[0;36mget_loc\u001b[0;34m(self, key, method, tolerance)\u001b[0m\n\u001b[1;32m   3360\u001b[0m             \u001b[0;32mtry\u001b[0m\u001b[0;34m:\u001b[0m\u001b[0;34m\u001b[0m\u001b[0;34m\u001b[0m\u001b[0m\n\u001b[0;32m-> 3361\u001b[0;31m                 \u001b[0;32mreturn\u001b[0m \u001b[0mself\u001b[0m\u001b[0;34m.\u001b[0m\u001b[0m_engine\u001b[0m\u001b[0;34m.\u001b[0m\u001b[0mget_loc\u001b[0m\u001b[0;34m(\u001b[0m\u001b[0mcasted_key\u001b[0m\u001b[0;34m)\u001b[0m\u001b[0;34m\u001b[0m\u001b[0;34m\u001b[0m\u001b[0m\n\u001b[0m\u001b[1;32m   3362\u001b[0m             \u001b[0;32mexcept\u001b[0m \u001b[0mKeyError\u001b[0m \u001b[0;32mas\u001b[0m \u001b[0merr\u001b[0m\u001b[0;34m:\u001b[0m\u001b[0;34m\u001b[0m\u001b[0;34m\u001b[0m\u001b[0m\n",
            "\u001b[0;32m/usr/local/lib/python3.7/dist-packages/pandas/_libs/index.pyx\u001b[0m in \u001b[0;36mpandas._libs.index.IndexEngine.get_loc\u001b[0;34m()\u001b[0m\n",
            "\u001b[0;32m/usr/local/lib/python3.7/dist-packages/pandas/_libs/index.pyx\u001b[0m in \u001b[0;36mpandas._libs.index.IndexEngine.get_loc\u001b[0;34m()\u001b[0m\n",
            "\u001b[0;32mpandas/_libs/hashtable_class_helper.pxi\u001b[0m in \u001b[0;36mpandas._libs.hashtable.PyObjectHashTable.get_item\u001b[0;34m()\u001b[0m\n",
            "\u001b[0;32mpandas/_libs/hashtable_class_helper.pxi\u001b[0m in \u001b[0;36mpandas._libs.hashtable.PyObjectHashTable.get_item\u001b[0;34m()\u001b[0m\n",
            "\u001b[0;31mKeyError\u001b[0m: 'head'",
            "\nThe above exception was the direct cause of the following exception:\n",
            "\u001b[0;31mKeyError\u001b[0m                                  Traceback (most recent call last)",
            "\u001b[0;32m<ipython-input-163-42844c8a8032>\u001b[0m in \u001b[0;36m<module>\u001b[0;34m()\u001b[0m\n\u001b[1;32m      4\u001b[0m \u001b[0;31m# # bodyparts2plot=bodyparts['ganzyou'] #you could also take a subset, i.e. =['snout']\u001b[0m\u001b[0;34m\u001b[0m\u001b[0;34m\u001b[0m\u001b[0;34m\u001b[0m\u001b[0m\n\u001b[1;32m      5\u001b[0m \u001b[0;31m# %matplotlib inline\u001b[0m\u001b[0;34m\u001b[0m\u001b[0;34m\u001b[0m\u001b[0;34m\u001b[0m\u001b[0m\n\u001b[0;32m----> 6\u001b[0;31m \u001b[0mPlottingResults\u001b[0m\u001b[0;34m(\u001b[0m\u001b[0mDataframe\u001b[0m\u001b[0;34m,\u001b[0m\u001b[0mbodyparts2plot\u001b[0m\u001b[0;34m,\u001b[0m\u001b[0malphavalue\u001b[0m\u001b[0;34m=\u001b[0m\u001b[0;36m.2\u001b[0m\u001b[0;34m,\u001b[0m\u001b[0mpcutoff\u001b[0m\u001b[0;34m=\u001b[0m\u001b[0;36m.5\u001b[0m\u001b[0;34m,\u001b[0m\u001b[0mfs\u001b[0m\u001b[0;34m=\u001b[0m\u001b[0;34m(\u001b[0m\u001b[0;36m8\u001b[0m\u001b[0;34m,\u001b[0m\u001b[0;36m4\u001b[0m\u001b[0;34m)\u001b[0m\u001b[0;34m)\u001b[0m\u001b[0;34m\u001b[0m\u001b[0;34m\u001b[0m\u001b[0m\n\u001b[0m\u001b[1;32m      7\u001b[0m \u001b[0;34m\u001b[0m\u001b[0m\n\u001b[1;32m      8\u001b[0m \u001b[0;31m# These plots can are interactive and can be customized (see https://matplotlib.org/) [in the code above]\u001b[0m\u001b[0;34m\u001b[0m\u001b[0;34m\u001b[0m\u001b[0;34m\u001b[0m\u001b[0m\n",
            "\u001b[0;32m<ipython-input-162-9d1dd427232d>\u001b[0m in \u001b[0;36mPlottingResults\u001b[0;34m(Dataframe, bodyparts2plot, alphavalue, pcutoff, colormap, fs)\u001b[0m\n\u001b[1;32m     14\u001b[0m \u001b[0;34m\u001b[0m\u001b[0m\n\u001b[1;32m     15\u001b[0m     \u001b[0;32mfor\u001b[0m \u001b[0mbpindex\u001b[0m\u001b[0;34m,\u001b[0m \u001b[0mbp\u001b[0m \u001b[0;32min\u001b[0m \u001b[0menumerate\u001b[0m\u001b[0;34m(\u001b[0m\u001b[0mbodyparts2plot\u001b[0m\u001b[0;34m)\u001b[0m\u001b[0;34m:\u001b[0m\u001b[0;34m\u001b[0m\u001b[0;34m\u001b[0m\u001b[0m\n\u001b[0;32m---> 16\u001b[0;31m         \u001b[0mIndex\u001b[0m\u001b[0;34m=\u001b[0m\u001b[0mDataframe\u001b[0m\u001b[0;34m[\u001b[0m\u001b[0mscorer\u001b[0m\u001b[0;34m]\u001b[0m\u001b[0;34m[\u001b[0m\u001b[0mbp\u001b[0m\u001b[0;34m]\u001b[0m\u001b[0;34m[\u001b[0m\u001b[0;34m'likelihood'\u001b[0m\u001b[0;34m]\u001b[0m\u001b[0;34m.\u001b[0m\u001b[0mvalues\u001b[0m \u001b[0;34m>\u001b[0m \u001b[0mpcutoff\u001b[0m\u001b[0;34m\u001b[0m\u001b[0;34m\u001b[0m\u001b[0m\n\u001b[0m\u001b[1;32m     17\u001b[0m         \u001b[0mplt\u001b[0m\u001b[0;34m.\u001b[0m\u001b[0mplot\u001b[0m\u001b[0;34m(\u001b[0m\u001b[0mDataframe\u001b[0m\u001b[0;34m[\u001b[0m\u001b[0mscorer\u001b[0m\u001b[0;34m]\u001b[0m\u001b[0;34m[\u001b[0m\u001b[0mbp\u001b[0m\u001b[0;34m]\u001b[0m\u001b[0;34m[\u001b[0m\u001b[0;34m'x'\u001b[0m\u001b[0;34m]\u001b[0m\u001b[0;34m.\u001b[0m\u001b[0mvalues\u001b[0m\u001b[0;34m[\u001b[0m\u001b[0mIndex\u001b[0m\u001b[0;34m]\u001b[0m\u001b[0;34m,\u001b[0m\u001b[0mDataframe\u001b[0m\u001b[0;34m[\u001b[0m\u001b[0mscorer\u001b[0m\u001b[0;34m]\u001b[0m\u001b[0;34m[\u001b[0m\u001b[0mbp\u001b[0m\u001b[0;34m]\u001b[0m\u001b[0;34m[\u001b[0m\u001b[0;34m'y'\u001b[0m\u001b[0;34m]\u001b[0m\u001b[0;34m.\u001b[0m\u001b[0mvalues\u001b[0m\u001b[0;34m[\u001b[0m\u001b[0mIndex\u001b[0m\u001b[0;34m]\u001b[0m\u001b[0;34m,\u001b[0m\u001b[0;34m'.'\u001b[0m\u001b[0;34m,\u001b[0m\u001b[0mcolor\u001b[0m\u001b[0;34m=\u001b[0m\u001b[0mcolors\u001b[0m\u001b[0;34m(\u001b[0m\u001b[0mbpindex\u001b[0m\u001b[0;34m)\u001b[0m\u001b[0;34m,\u001b[0m\u001b[0malpha\u001b[0m\u001b[0;34m=\u001b[0m\u001b[0malphavalue\u001b[0m\u001b[0;34m)\u001b[0m\u001b[0;34m\u001b[0m\u001b[0;34m\u001b[0m\u001b[0m\n\u001b[1;32m     18\u001b[0m \u001b[0;34m\u001b[0m\u001b[0m\n",
            "\u001b[0;32m/usr/local/lib/python3.7/dist-packages/pandas/core/frame.py\u001b[0m in \u001b[0;36m__getitem__\u001b[0;34m(self, key)\u001b[0m\n\u001b[1;32m   3456\u001b[0m             \u001b[0;32mif\u001b[0m \u001b[0mself\u001b[0m\u001b[0;34m.\u001b[0m\u001b[0mcolumns\u001b[0m\u001b[0;34m.\u001b[0m\u001b[0mnlevels\u001b[0m \u001b[0;34m>\u001b[0m \u001b[0;36m1\u001b[0m\u001b[0;34m:\u001b[0m\u001b[0;34m\u001b[0m\u001b[0;34m\u001b[0m\u001b[0m\n\u001b[1;32m   3457\u001b[0m                 \u001b[0;32mreturn\u001b[0m \u001b[0mself\u001b[0m\u001b[0;34m.\u001b[0m\u001b[0m_getitem_multilevel\u001b[0m\u001b[0;34m(\u001b[0m\u001b[0mkey\u001b[0m\u001b[0;34m)\u001b[0m\u001b[0;34m\u001b[0m\u001b[0;34m\u001b[0m\u001b[0m\n\u001b[0;32m-> 3458\u001b[0;31m             \u001b[0mindexer\u001b[0m \u001b[0;34m=\u001b[0m \u001b[0mself\u001b[0m\u001b[0;34m.\u001b[0m\u001b[0mcolumns\u001b[0m\u001b[0;34m.\u001b[0m\u001b[0mget_loc\u001b[0m\u001b[0;34m(\u001b[0m\u001b[0mkey\u001b[0m\u001b[0;34m)\u001b[0m\u001b[0;34m\u001b[0m\u001b[0;34m\u001b[0m\u001b[0m\n\u001b[0m\u001b[1;32m   3459\u001b[0m             \u001b[0;32mif\u001b[0m \u001b[0mis_integer\u001b[0m\u001b[0;34m(\u001b[0m\u001b[0mindexer\u001b[0m\u001b[0;34m)\u001b[0m\u001b[0;34m:\u001b[0m\u001b[0;34m\u001b[0m\u001b[0;34m\u001b[0m\u001b[0m\n\u001b[1;32m   3460\u001b[0m                 \u001b[0mindexer\u001b[0m \u001b[0;34m=\u001b[0m \u001b[0;34m[\u001b[0m\u001b[0mindexer\u001b[0m\u001b[0;34m]\u001b[0m\u001b[0;34m\u001b[0m\u001b[0;34m\u001b[0m\u001b[0m\n",
            "\u001b[0;32m/usr/local/lib/python3.7/dist-packages/pandas/core/indexes/base.py\u001b[0m in \u001b[0;36mget_loc\u001b[0;34m(self, key, method, tolerance)\u001b[0m\n\u001b[1;32m   3361\u001b[0m                 \u001b[0;32mreturn\u001b[0m \u001b[0mself\u001b[0m\u001b[0;34m.\u001b[0m\u001b[0m_engine\u001b[0m\u001b[0;34m.\u001b[0m\u001b[0mget_loc\u001b[0m\u001b[0;34m(\u001b[0m\u001b[0mcasted_key\u001b[0m\u001b[0;34m)\u001b[0m\u001b[0;34m\u001b[0m\u001b[0;34m\u001b[0m\u001b[0m\n\u001b[1;32m   3362\u001b[0m             \u001b[0;32mexcept\u001b[0m \u001b[0mKeyError\u001b[0m \u001b[0;32mas\u001b[0m \u001b[0merr\u001b[0m\u001b[0;34m:\u001b[0m\u001b[0;34m\u001b[0m\u001b[0;34m\u001b[0m\u001b[0m\n\u001b[0;32m-> 3363\u001b[0;31m                 \u001b[0;32mraise\u001b[0m \u001b[0mKeyError\u001b[0m\u001b[0;34m(\u001b[0m\u001b[0mkey\u001b[0m\u001b[0;34m)\u001b[0m \u001b[0;32mfrom\u001b[0m \u001b[0merr\u001b[0m\u001b[0;34m\u001b[0m\u001b[0;34m\u001b[0m\u001b[0m\n\u001b[0m\u001b[1;32m   3364\u001b[0m \u001b[0;34m\u001b[0m\u001b[0m\n\u001b[1;32m   3365\u001b[0m         \u001b[0;32mif\u001b[0m \u001b[0mis_scalar\u001b[0m\u001b[0;34m(\u001b[0m\u001b[0mkey\u001b[0m\u001b[0;34m)\u001b[0m \u001b[0;32mand\u001b[0m \u001b[0misna\u001b[0m\u001b[0;34m(\u001b[0m\u001b[0mkey\u001b[0m\u001b[0;34m)\u001b[0m \u001b[0;32mand\u001b[0m \u001b[0;32mnot\u001b[0m \u001b[0mself\u001b[0m\u001b[0;34m.\u001b[0m\u001b[0mhasnans\u001b[0m\u001b[0;34m:\u001b[0m\u001b[0;34m\u001b[0m\u001b[0;34m\u001b[0m\u001b[0m\n",
            "\u001b[0;31mKeyError\u001b[0m: 'head'"
          ]
        },
        {
          "output_type": "display_data",
          "data": {
            "text/plain": [
              "<Figure size 576x288 with 0 Axes>"
            ]
          },
          "metadata": {}
        }
      ],
      "source": [
        "# # bodyparts=Dataframe.columns.get_level_values(2) #you can read out the header to get body part names!\n",
        "\n",
        "# bodyparts2plot=bodyparts #you could also take a subset, i.e. =['snout']\n",
        "# # bodyparts2plot=bodyparts['ganzyou'] #you could also take a subset, i.e. =['snout']\n",
        "# %matplotlib inline\n",
        "PlottingResults(Dataframe,bodyparts2plot,alphavalue=.2,pcutoff=.5,fs=(8,4))\n",
        "\n",
        "# These plots can are interactive and can be customized (see https://matplotlib.org/) [in the code above]\n",
        "# note that the snout and other bpts jitter in this example that was not trained for long."
      ]
    },
    {
      "cell_type": "code",
      "source": [
        "bodyparts2plot"
      ],
      "metadata": {
        "id": "55z98tpv67AF"
      },
      "execution_count": null,
      "outputs": []
    },
    {
      "cell_type": "code",
      "source": [
        "import time_in_each_roi"
      ],
      "metadata": {
        "id": "cNTmiLAxqiPe"
      },
      "execution_count": 174,
      "outputs": []
    },
    {
      "cell_type": "code",
      "source": [
        "%cd /content/drive/MyDrive/DLCutils-master"
      ],
      "metadata": {
        "colab": {
          "base_uri": "https://localhost:8080/"
        },
        "id": "CIIUKhYyXfOm",
        "outputId": "5f25fc1b-26c1-4063-a2e1-741ce8814cb2"
      },
      "execution_count": 169,
      "outputs": [
        {
          "output_type": "stream",
          "name": "stdout",
          "text": [
            "/content/drive/MyDrive/DLCutils-master\n"
          ]
        }
      ]
    },
    {
      "cell_type": "code",
      "source": [
        "# xsnout=Dataframe['oshiri']['x'].values.nan_to_num(x, nan=0)\n",
        "# xsnout\n",
        "x = Dataframe['oshiri']['x'].values\n",
        "x = np.nan_to_num(x, nan=0)\n",
        "y = Dataframe['oshiri']['y'].values\n",
        "y = np.nan_to_num(x, nan=0)"
      ],
      "metadata": {
        "id": "IHmWTMK3t9Bh"
      },
      "execution_count": 197,
      "outputs": []
    },
    {
      "cell_type": "code",
      "source": [
        "y.flatten()"
      ],
      "metadata": {
        "colab": {
          "base_uri": "https://localhost:8080/"
        },
        "id": "izSJQ0roxhDQ",
        "outputId": "5fb0ed19-19d0-4b1a-9234-fd9159976d26"
      },
      "execution_count": 198,
      "outputs": [
        {
          "output_type": "execute_result",
          "data": {
            "text/plain": [
              "array([364.507, 362.16 ,   0.   , ..., 561.151, 560.974, 560.577])"
            ]
          },
          "metadata": {},
          "execution_count": 198
        }
      ]
    },
    {
      "cell_type": "code",
      "source": [
        "vel = time_in_each_roi.calc_distance_between_points_in_a_vector_2d(np.vstack([x.flatten(), y.flatten()]).T)"
      ],
      "metadata": {
        "id": "8ks1in5Ju6gr"
      },
      "execution_count": 206,
      "outputs": []
    },
    {
      "cell_type": "code",
      "source": [
        "vel = time_in_each_roi.calc_distance_between_points_in_a_vector_2d(np.vstack([Dataframe['oshiri']['x'].values.flatten(), Dataframe['oshiri']['y'].values.flatten()]).T)"
      ],
      "metadata": {
        "colab": {
          "base_uri": "https://localhost:8080/",
          "height": 341
        },
        "id": "pqkKemu4u1cn",
        "outputId": "8cbe87c2-1e76-49aa-c9f6-47f123201e1f"
      },
      "execution_count": 177,
      "outputs": [
        {
          "output_type": "error",
          "ename": "ValueError",
          "evalue": "ignored",
          "traceback": [
            "\u001b[0;31m---------------------------------------------------------------------------\u001b[0m",
            "\u001b[0;31mValueError\u001b[0m                                Traceback (most recent call last)",
            "\u001b[0;32m<ipython-input-177-2751a3592b33>\u001b[0m in \u001b[0;36m<module>\u001b[0;34m()\u001b[0m\n\u001b[0;32m----> 1\u001b[0;31m \u001b[0mvel\u001b[0m \u001b[0;34m=\u001b[0m \u001b[0mtime_in_each_roi\u001b[0m\u001b[0;34m.\u001b[0m\u001b[0mcalc_distance_between_points_in_a_vector_2d\u001b[0m\u001b[0;34m(\u001b[0m\u001b[0mnp\u001b[0m\u001b[0;34m.\u001b[0m\u001b[0mvstack\u001b[0m\u001b[0;34m(\u001b[0m\u001b[0;34m[\u001b[0m\u001b[0mDataframe\u001b[0m\u001b[0;34m[\u001b[0m\u001b[0;34m'oshiri'\u001b[0m\u001b[0;34m]\u001b[0m\u001b[0;34m[\u001b[0m\u001b[0;34m'x'\u001b[0m\u001b[0;34m]\u001b[0m\u001b[0;34m.\u001b[0m\u001b[0mvalues\u001b[0m\u001b[0;34m.\u001b[0m\u001b[0mflatten\u001b[0m\u001b[0;34m(\u001b[0m\u001b[0;34m)\u001b[0m\u001b[0;34m,\u001b[0m \u001b[0mDataframe\u001b[0m\u001b[0;34m[\u001b[0m\u001b[0;34m'oshiri'\u001b[0m\u001b[0;34m]\u001b[0m\u001b[0;34m[\u001b[0m\u001b[0;34m'y'\u001b[0m\u001b[0;34m]\u001b[0m\u001b[0;34m.\u001b[0m\u001b[0mvalues\u001b[0m\u001b[0;34m.\u001b[0m\u001b[0mflatten\u001b[0m\u001b[0;34m(\u001b[0m\u001b[0;34m)\u001b[0m\u001b[0;34m]\u001b[0m\u001b[0;34m)\u001b[0m\u001b[0;34m.\u001b[0m\u001b[0mT\u001b[0m\u001b[0;34m)\u001b[0m\u001b[0;34m\u001b[0m\u001b[0;34m\u001b[0m\u001b[0m\n\u001b[0m",
            "\u001b[0;32m/content/drive/MyDrive/DLCutils-master/time_in_each_roi.py\u001b[0m in \u001b[0;36mcalc_distance_between_points_in_a_vector_2d\u001b[0;34m(v1)\u001b[0m\n\u001b[1;32m     72\u001b[0m \u001b[0;34m\u001b[0m\u001b[0m\n\u001b[1;32m     73\u001b[0m             \u001b[0;31m# Calc distance\u001b[0m\u001b[0;34m\u001b[0m\u001b[0;34m\u001b[0m\u001b[0;34m\u001b[0m\u001b[0m\n\u001b[0;32m---> 74\u001b[0;31m             \u001b[0mdist\u001b[0m\u001b[0;34m.\u001b[0m\u001b[0mappend\u001b[0m\u001b[0;34m(\u001b[0m\u001b[0mnp\u001b[0m\u001b[0;34m.\u001b[0m\u001b[0mabs\u001b[0m\u001b[0;34m(\u001b[0m\u001b[0mdistance\u001b[0m\u001b[0;34m.\u001b[0m\u001b[0meuclidean\u001b[0m\u001b[0;34m(\u001b[0m\u001b[0mp0\u001b[0m\u001b[0;34m,\u001b[0m \u001b[0mp1\u001b[0m\u001b[0;34m)\u001b[0m\u001b[0;34m)\u001b[0m\u001b[0;34m)\u001b[0m\u001b[0;34m\u001b[0m\u001b[0;34m\u001b[0m\u001b[0m\n\u001b[0m\u001b[1;32m     75\u001b[0m \u001b[0;34m\u001b[0m\u001b[0m\n\u001b[1;32m     76\u001b[0m             \u001b[0;31m# Prepare for next iteration, current position becomes the old one and repeat\u001b[0m\u001b[0;34m\u001b[0m\u001b[0;34m\u001b[0m\u001b[0;34m\u001b[0m\u001b[0m\n",
            "\u001b[0;32m/usr/local/lib/python3.7/dist-packages/scipy/spatial/distance.py\u001b[0m in \u001b[0;36meuclidean\u001b[0;34m(u, v, w)\u001b[0m\n\u001b[1;32m    595\u001b[0m \u001b[0;34m\u001b[0m\u001b[0m\n\u001b[1;32m    596\u001b[0m     \"\"\"\n\u001b[0;32m--> 597\u001b[0;31m     \u001b[0;32mreturn\u001b[0m \u001b[0mminkowski\u001b[0m\u001b[0;34m(\u001b[0m\u001b[0mu\u001b[0m\u001b[0;34m,\u001b[0m \u001b[0mv\u001b[0m\u001b[0;34m,\u001b[0m \u001b[0mp\u001b[0m\u001b[0;34m=\u001b[0m\u001b[0;36m2\u001b[0m\u001b[0;34m,\u001b[0m \u001b[0mw\u001b[0m\u001b[0;34m=\u001b[0m\u001b[0mw\u001b[0m\u001b[0;34m)\u001b[0m\u001b[0;34m\u001b[0m\u001b[0;34m\u001b[0m\u001b[0m\n\u001b[0m\u001b[1;32m    598\u001b[0m \u001b[0;34m\u001b[0m\u001b[0m\n\u001b[1;32m    599\u001b[0m \u001b[0;34m\u001b[0m\u001b[0m\n",
            "\u001b[0;32m/usr/local/lib/python3.7/dist-packages/scipy/spatial/distance.py\u001b[0m in \u001b[0;36mminkowski\u001b[0;34m(u, v, p, w)\u001b[0m\n\u001b[1;32m    499\u001b[0m             \u001b[0mroot_w\u001b[0m \u001b[0;34m=\u001b[0m \u001b[0mnp\u001b[0m\u001b[0;34m.\u001b[0m\u001b[0mpower\u001b[0m\u001b[0;34m(\u001b[0m\u001b[0mw\u001b[0m\u001b[0;34m,\u001b[0m \u001b[0;36m1\u001b[0m\u001b[0;34m/\u001b[0m\u001b[0mp\u001b[0m\u001b[0;34m)\u001b[0m\u001b[0;34m\u001b[0m\u001b[0;34m\u001b[0m\u001b[0m\n\u001b[1;32m    500\u001b[0m         \u001b[0mu_v\u001b[0m \u001b[0;34m=\u001b[0m \u001b[0mroot_w\u001b[0m \u001b[0;34m*\u001b[0m \u001b[0mu_v\u001b[0m\u001b[0;34m\u001b[0m\u001b[0;34m\u001b[0m\u001b[0m\n\u001b[0;32m--> 501\u001b[0;31m     \u001b[0mdist\u001b[0m \u001b[0;34m=\u001b[0m \u001b[0mnorm\u001b[0m\u001b[0;34m(\u001b[0m\u001b[0mu_v\u001b[0m\u001b[0;34m,\u001b[0m \u001b[0mord\u001b[0m\u001b[0;34m=\u001b[0m\u001b[0mp\u001b[0m\u001b[0;34m)\u001b[0m\u001b[0;34m\u001b[0m\u001b[0;34m\u001b[0m\u001b[0m\n\u001b[0m\u001b[1;32m    502\u001b[0m     \u001b[0;32mreturn\u001b[0m \u001b[0mdist\u001b[0m\u001b[0;34m\u001b[0m\u001b[0;34m\u001b[0m\u001b[0m\n\u001b[1;32m    503\u001b[0m \u001b[0;34m\u001b[0m\u001b[0m\n",
            "\u001b[0;32m/usr/local/lib/python3.7/dist-packages/scipy/linalg/misc.py\u001b[0m in \u001b[0;36mnorm\u001b[0;34m(a, ord, axis, keepdims, check_finite)\u001b[0m\n\u001b[1;32m    143\u001b[0m     \u001b[0;31m# Differs from numpy only in non-finite handling and the use of blas.\u001b[0m\u001b[0;34m\u001b[0m\u001b[0;34m\u001b[0m\u001b[0;34m\u001b[0m\u001b[0m\n\u001b[1;32m    144\u001b[0m     \u001b[0;32mif\u001b[0m \u001b[0mcheck_finite\u001b[0m\u001b[0;34m:\u001b[0m\u001b[0;34m\u001b[0m\u001b[0;34m\u001b[0m\u001b[0m\n\u001b[0;32m--> 145\u001b[0;31m         \u001b[0ma\u001b[0m \u001b[0;34m=\u001b[0m \u001b[0mnp\u001b[0m\u001b[0;34m.\u001b[0m\u001b[0masarray_chkfinite\u001b[0m\u001b[0;34m(\u001b[0m\u001b[0ma\u001b[0m\u001b[0;34m)\u001b[0m\u001b[0;34m\u001b[0m\u001b[0;34m\u001b[0m\u001b[0m\n\u001b[0m\u001b[1;32m    146\u001b[0m     \u001b[0;32melse\u001b[0m\u001b[0;34m:\u001b[0m\u001b[0;34m\u001b[0m\u001b[0;34m\u001b[0m\u001b[0m\n\u001b[1;32m    147\u001b[0m         \u001b[0ma\u001b[0m \u001b[0;34m=\u001b[0m \u001b[0mnp\u001b[0m\u001b[0;34m.\u001b[0m\u001b[0masarray\u001b[0m\u001b[0;34m(\u001b[0m\u001b[0ma\u001b[0m\u001b[0;34m)\u001b[0m\u001b[0;34m\u001b[0m\u001b[0;34m\u001b[0m\u001b[0m\n",
            "\u001b[0;32m/usr/local/lib/python3.7/dist-packages/numpy/lib/function_base.py\u001b[0m in \u001b[0;36masarray_chkfinite\u001b[0;34m(a, dtype, order)\u001b[0m\n\u001b[1;32m    487\u001b[0m     \u001b[0;32mif\u001b[0m \u001b[0ma\u001b[0m\u001b[0;34m.\u001b[0m\u001b[0mdtype\u001b[0m\u001b[0;34m.\u001b[0m\u001b[0mchar\u001b[0m \u001b[0;32min\u001b[0m \u001b[0mtypecodes\u001b[0m\u001b[0;34m[\u001b[0m\u001b[0;34m'AllFloat'\u001b[0m\u001b[0;34m]\u001b[0m \u001b[0;32mand\u001b[0m \u001b[0;32mnot\u001b[0m \u001b[0mnp\u001b[0m\u001b[0;34m.\u001b[0m\u001b[0misfinite\u001b[0m\u001b[0;34m(\u001b[0m\u001b[0ma\u001b[0m\u001b[0;34m)\u001b[0m\u001b[0;34m.\u001b[0m\u001b[0mall\u001b[0m\u001b[0;34m(\u001b[0m\u001b[0;34m)\u001b[0m\u001b[0;34m:\u001b[0m\u001b[0;34m\u001b[0m\u001b[0;34m\u001b[0m\u001b[0m\n\u001b[1;32m    488\u001b[0m         raise ValueError(\n\u001b[0;32m--> 489\u001b[0;31m             \"array must not contain infs or NaNs\")\n\u001b[0m\u001b[1;32m    490\u001b[0m     \u001b[0;32mreturn\u001b[0m \u001b[0ma\u001b[0m\u001b[0;34m\u001b[0m\u001b[0;34m\u001b[0m\u001b[0m\n\u001b[1;32m    491\u001b[0m \u001b[0;34m\u001b[0m\u001b[0m\n",
            "\u001b[0;31mValueError\u001b[0m: array must not contain infs or NaNs"
          ]
        }
      ]
    },
    {
      "cell_type": "code",
      "source": [
        "#let's calculate velocity of the snout\n",
        "bpt='oshiri'\n",
        "# vel = time_in_each_roi.calc_distance_between_points_in_a_vector_2d(np.vstack([Dataframe['oshiri']['x'].values.flatten(), Dataframe['oshiri']['y'].values.flatten()]).T)\n",
        "\n",
        "fps=30 # frame rate of camera in those experiments\n",
        "time=np.arange(len(vel))*1./fps\n",
        "vel=vel #notice the units of vel are relative pixel distance [per time step]\n",
        "\n",
        "# store in other variables:\n",
        "xsnout=Dataframe[bpt]['x'].values\n",
        "ysnout=Dataframe[bpt]['y'].values\n",
        "# xsnout=Dataframe[DLCscorer][elp]['x'].values\n",
        "# ysnout=Dataframe[DLCscorer][elp]['y'].values\n",
        "vsnout=vel"
      ],
      "metadata": {
        "id": "9U90l4TFXwQO"
      },
      "execution_count": 207,
      "outputs": []
    },
    {
      "cell_type": "code",
      "source": [
        ""
      ],
      "metadata": {
        "id": "RQRJEqaFyoXr"
      },
      "execution_count": null,
      "outputs": []
    },
    {
      "cell_type": "code",
      "execution_count": 212,
      "metadata": {
        "colab": {
          "base_uri": "https://localhost:8080/",
          "height": 279
        },
        "id": "6AdnFl5sIIk-",
        "outputId": "8d66e0e0-dd43-4860-c219-6b1bf0bfbe8d"
      },
      "outputs": [
        {
          "output_type": "display_data",
          "data": {
            "text/plain": [
              "<Figure size 432x288 with 1 Axes>"
            ],
            "image/png": "[encoded data removed]"
          },
          "metadata": {
            "needs_background": "light"
          }
        }
      ],
      "source": [
        "%matplotlib inline\n",
        "\n",
        "plt.plot(time,vel*1./fps)\n",
        "plt.xlabel('Time')\n",
        "plt.ylabel('Speed in pixels per time')\n",
        "plt.show()"
      ]
    },
    {
      "cell_type": "code",
      "execution_count": 220,
      "metadata": {
        "id": "lNZccq9pIIk_",
        "colab": {
          "base_uri": "https://localhost:8080/"
        },
        "outputId": "23daab8f-8909-4b21-d5cf-af40c5787138"
      },
      "outputs": [
        {
          "output_type": "stream",
          "name": "stdout",
          "text": [
            "{'leftside': position(topleft=(0, 0), bottomright=(500, 510)), 'rightside': position(topleft=(500, 0), bottomright=(1000, 510))}\n"
          ]
        }
      ],
      "source": [
        "#define bounding boxes (here for left and right side of treadmill, displayed below)\n",
        "from collections import namedtuple\n",
        "position = namedtuple('position', ['topleft', 'bottomright'])\n",
        "bp_tracking = np.array((xsnout, ysnout, vsnout))\n",
        "\n",
        "#two points defining each roi: topleft(X,Y) and bottomright(X,Y).\n",
        "rois = {'leftside': position((0, 0), (500, 510)),'rightside': position((500, 0), (1000, 510))} \n",
        "print(rois)"
      ]
    },
    {
      "cell_type": "code",
      "source": [
        "import matplotlib.patches as patches\n",
        "fig,ax = plt.subplots(1)\n",
        "\n",
        "#plot snout + bounding boxes for rois\n",
        "plt.plot(xsnout,ysnout,'.-')\n",
        "\n",
        "rect = patches.Rectangle(rois['rightside'].topleft,rois['rightside'].bottomright[0]-rois['rightside'].topleft[0],rois['rightside'].bottomright[1]-rois['rightside'].topleft[1],linewidth=1,edgecolor='purple',facecolor='none')\n",
        "ax.add_patch(rect)\n",
        "rect = patches.Rectangle(rois['leftside'].topleft,rois['leftside'].bottomright[0]-rois['leftside'].topleft[0],rois['leftside'].bottomright[1]-rois['leftside'].topleft[1],linewidth=1,edgecolor='orange',facecolor='none')\n",
        "ax.add_patch(rect)\n",
        "plt.ylim(-11,491)\n",
        "plt.show()"
      ],
      "metadata": {
        "colab": {
          "base_uri": "https://localhost:8080/",
          "height": 265
        },
        "id": "ANgaOnNJyvnT",
        "outputId": "6df11836-a455-4b42-882f-ea547933b67c"
      },
      "execution_count": 221,
      "outputs": [
        {
          "output_type": "display_data",
          "data": {
            "text/plain": [
              "<Figure size 432x288 with 1 Axes>"
            ],
            "image/png": "[encoded data removed]"
          },
          "metadata": {
            "needs_background": "light"
          }
        }
      ]
    },
    {
      "cell_type": "code",
      "source": [
        "import time_in_each_roi #the function needs to be in the same folder as the notebook\n",
        "\n",
        "res = time_in_each_roi.get_timeinrois_stats(bp_tracking.T, rois, fps=30)\n",
        "\n",
        "#print results:\n",
        "res"
      ],
      "metadata": {
        "colab": {
          "base_uri": "https://localhost:8080/"
        },
        "id": "1DWX1PLvyxru",
        "outputId": "88b97b2c-cddf-48cf-f578-1892b2fb701e"
      },
      "execution_count": 222,
      "outputs": [
        {
          "output_type": "stream",
          "name": "stderr",
          "text": [
            "/content/drive/MyDrive/DLCutils-master/time_in_each_roi.py:142: UserWarning: Warning: you've set check_inroi=False, so data reflect which ROI is closest even if tracked point is not in any given ROI.\n",
            "  warnings.warn(\"Warning: you've set check_inroi=False, so data reflect which ROI is closest even if tracked point is not in any given ROI.\")\n"
          ]
        },
        {
          "output_type": "execute_result",
          "data": {
            "text/plain": [
              "{'avg_time_in_roi': {'leftside': 11.06341463414634,\n",
              "  'rightside': 32.81951219512195,\n",
              "  'tot': 43.88292682926829},\n",
              " 'avg_time_in_roi_sec': {'leftside': 0.36878048780487804,\n",
              "  'rightside': 1.0939837398373984,\n",
              "  'tot': 1.4627642276422765},\n",
              " 'avg_vel_in_roi': {'leftside': 45.79612991228904,\n",
              "  'rightside': 92.90703870737667,\n",
              "  'tot': 138.70316861966572},\n",
              " 'cumulative_time_in_roi': {'leftside': 6728, 'rightside': 2268, 'tot': 8996},\n",
              " 'cumulative_time_in_roi_sec': {'leftside': 224.26666666666668,\n",
              "  'rightside': 75.6,\n",
              "  'tot': 299.8666666666667},\n",
              " 'transitions_per_roi': {'leftside': 205, 'rightside': 205, 'tot': 410}}"
            ]
          },
          "metadata": {},
          "execution_count": 222
        }
      ]
    },
    {
      "cell_type": "code",
      "source": [
        ""
      ],
      "metadata": {
        "colab": {
          "base_uri": "https://localhost:8080/",
          "height": 137
        },
        "id": "xJr4gWq6zzoJ",
        "outputId": "85a0f4ea-285b-4610-c9fb-a34d3df4ade8"
      },
      "execution_count": 223,
      "outputs": [
        {
          "output_type": "error",
          "ename": "SyntaxError",
          "evalue": "ignored",
          "traceback": [
            "\u001b[0;36m  File \u001b[0;32m\"<ipython-input-223-381a3eb356cb>\"\u001b[0;36m, line \u001b[0;32m2\u001b[0m\n\u001b[0;31m    https://github.com/AdaptiveMotorControlLab/DLC2Kinematics\u001b[0m\n\u001b[0m           ^\u001b[0m\n\u001b[0;31mSyntaxError\u001b[0m\u001b[0;31m:\u001b[0m invalid syntax\n"
          ]
        }
      ]
    },
    {
      "cell_type": "markdown",
      "source": [
        "Reference\n",
        "https://github.com/DeepLabCut/DLCutils"
      ],
      "metadata": {
        "id": "2Emr4Fe5BPcQ"
      }
    },
    {
      "cell_type": "code",
      "source": [
        ""
      ],
      "metadata": {
        "id": "JVWQ5WvhBOcF"
      },
      "execution_count": null,
      "outputs": []
    }
  ]
}